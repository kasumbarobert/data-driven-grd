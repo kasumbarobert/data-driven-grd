{
 "cells": [
  {
   "cell_type": "markdown",
   "metadata": {
    "tags": []
   },
   "source": [
    "## train model from read human data "
   ]
  },
  {
   "cell_type": "code",
   "execution_count": null,
   "metadata": {},
   "outputs": [],
   "source": [
    "import torch\n",
    "import numpy as np\n",
    "import matplotlib.pyplot as plt\n",
    "from matplotlib.colors import ListedColormap\n",
    "import random\n",
    "import pandas as pd\n",
    "import itertools\n",
    "import math\n",
    "# from mdp import GridworldMDP\n",
    "from collections import deque\n",
    "import random\n",
    "import time\n",
    "\n",
    "# from utils import *"
   ]
  },
  {
   "cell_type": "code",
   "execution_count": null,
   "metadata": {},
   "outputs": [],
   "source": [
    "import torch.nn as nn\n",
    "import torch.nn.functional as F\n",
    "import torch.optim as optim\n",
    "import json\n",
    "import ast\n",
    "import copy\n",
    "import os\n"
   ]
  },
  {
   "cell_type": "code",
   "execution_count": null,
   "metadata": {},
   "outputs": [],
   "source": []
  },
  {
   "cell_type": "code",
   "execution_count": null,
   "metadata": {},
   "outputs": [],
   "source": [
    "Actions = []\n",
    "human_exp_actions = [(-1, 0), (1,0), (0,-1), (0,1)]\n",
    "# case \"ArrowUp\": case 'W': case 'w':\n",
    "#     movePlane({ row: -1, col: 0 }, action=0);\n",
    "#     break;\n",
    "# case \"ArrowDown\": case 'S': case 's':\n",
    "#     movePlane({ row: 1, col: 0 }, action=1);\n",
    "#     break;\n",
    "# case \"ArrowLeft\": case 'A': case 'a':\n",
    "#     movePlane({ row: 0, col: -1 }, action=2);\n",
    "#     break;\n",
    "# case \"ArrowRight\": case 'D': case 'd':\n",
    "#     movePlane({ row: 0, col: 1 }, action=3);\n",
    "#     break;"
   ]
  },
  {
   "cell_type": "markdown",
   "metadata": {
    "tags": []
   },
   "source": [
    "## read human dataset "
   ]
  },
  {
   "cell_type": "code",
   "execution_count": null,
   "metadata": {},
   "outputs": [],
   "source": [
    "data = pd.read_csv('human-data/formal1-200.csv')\n",
    "actions = data['Answer.output_user_actions']\n",
    "gameidx = data['Answer.output_gameidx']\n",
    "gamelayouts = np.load('human-data/layout_data3274.npz')['x']"
   ]
  },
  {
   "cell_type": "code",
   "execution_count": null,
   "metadata": {},
   "outputs": [],
   "source": [
    "actions_len = actions.apply(lambda x:[len(k) for k in json.loads(x)])"
   ]
  },
  {
   "cell_type": "code",
   "execution_count": null,
   "metadata": {
    "tags": []
   },
   "outputs": [],
   "source": [
    "actions = data[['WorkerId','Answer.output_user_actions']]\n",
    "actions['move'] = actions['Answer.output_user_actions'].apply(lambda x:json.loads(x))\n",
    "# actions.head()\n",
    "actions = actions[['WorkerId', 'move']].explode('move')\n",
    "actions.head(17), len(actions )\n",
    "actions.index = np.arange(3200)\n",
    "idx = np.arange(15, 3200, 16)\n",
    "print(idx[:10])\n",
    "actions.drop(idx, inplace=True)\n",
    "actions.head(17), len(actions )\n",
    "\n"
   ]
  },
  {
   "cell_type": "code",
   "execution_count": null,
   "metadata": {},
   "outputs": [],
   "source": [
    "gameidx = data[['WorkerId', 'Answer.output_gameidx']].explode('Answer.output_gameidx')\n",
    "gameidx['idx'] = gameidx['Answer.output_gameidx'].apply(lambda x: ast.literal_eval(x))\n",
    "gameidx = gameidx[['WorkerId', 'idx']].explode('idx')\n",
    "gameidx.head(), len(gameidx)"
   ]
  },
  {
   "cell_type": "code",
   "execution_count": null,
   "metadata": {},
   "outputs": [],
   "source": [
    "gameidx.index = np.arange(3000)\n",
    "actions.index = np.arange(3000)\n",
    "actions['idx'] = gameidx['idx']\n",
    "print(actions.shape)\n",
    "del data \n"
   ]
  },
  {
   "cell_type": "code",
   "execution_count": null,
   "metadata": {},
   "outputs": [],
   "source": [
    "print(len(gamelayouts), gamelayouts[0], type(gamelayouts[0]))"
   ]
  },
  {
   "cell_type": "markdown",
   "metadata": {
    "jp-MarkdownHeadingCollapsed": true,
    "tags": []
   },
   "source": [
    "## generate human data"
   ]
  },
  {
   "cell_type": "code",
   "execution_count": null,
   "metadata": {},
   "outputs": [],
   "source": [
    "np.random.seed(42)\n",
    "useridx = np.arange(200)\n",
    "np.random.shuffle(useridx)\n",
    "train_idx = useridx[:160]\n",
    "val_idx = useridx[160:180]\n",
    "test_idx = useridx[180:]"
   ]
  },
  {
   "cell_type": "code",
   "execution_count": null,
   "metadata": {},
   "outputs": [],
   "source": [
    "simulation_actions = [(1,0), (-1,0), (0,1), (0,-1)] ## in simulations \n",
    "human_exp_actions = [(-1, 0), (1,0), (0,-1), (0,1)]\n"
   ]
  },
  {
   "cell_type": "code",
   "execution_count": null,
   "metadata": {},
   "outputs": [],
   "source": [
    "## drop those data is len > 19 \n",
    "actions['len'] = actions['move'].apply(lambda x: len(x))\n",
    "print(sum(actions['len']>=19))\n",
    "print(sum(actions['len']<=2))"
   ]
  },
  {
   "cell_type": "code",
   "execution_count": null,
   "metadata": {},
   "outputs": [],
   "source": [
    "## below is to check whether to actions and layout map are consistent\n",
    "def visualize_human_action(move, idx):\n",
    "    layout = np.copy(gamelayouts[idx])\n",
    "    quick_visualize(layout)\n",
    "    print(move)\n",
    "    for a in move:\n",
    "        change = human_exp_actions[a]\n",
    "        print(a, change, '---'*10)\n",
    "        i,j = np.argwhere(layout[2,:,:])[0]    \n",
    "        layout[2, i,j] = 0\n",
    "        layout[2, i+change[0], j+change[1]] = 1\n",
    "        quick_visualize(layout)\n",
    "    return -1 \n",
    "\n",
    "def quick_visualize(layout):\n",
    "    ans = np.zeros([6,6], dtype='object')\n",
    "    for i in range(6):\n",
    "        for j in range(6):\n",
    "            ans[i][j] = '0'\n",
    "            if layout[1,i,j]==1:\n",
    "                ans[i][j] = 'X'\n",
    "            if layout[2,i,j]==1:\n",
    "                ans[i][j] = 'S'\n",
    "            if layout[3,i,j]==1:\n",
    "                ans[i][j] = 'G' \n",
    "    for inner_list in ans:\n",
    "        print(inner_list)\n",
    "\n",
    "visualize_human_action(actions.iloc[0]['move'], actions.iloc[0]['idx'])"
   ]
  },
  {
   "cell_type": "code",
   "execution_count": null,
   "metadata": {},
   "outputs": [],
   "source": [
    "grid_size = 6\n",
    "\n",
    "def get_action(pos, newpos):\n",
    "    move = (int(newpos[0]-pos[0]), int(newpos[1]-pos[1]))\n",
    "    # print(move)\n",
    "    if move in simulation_actions:\n",
    "        return simulation_actions.index(move)\n",
    "    else:\n",
    "        return int(4)\n",
    "    \n",
    "def rotate(pos, grid_size):\n",
    "    if type(pos) is tuple:\n",
    "        return (grid_size-1-pos[1], pos[0])\n",
    "    else:\n",
    "        return [(grid_size-1-p[1], p[0]) for p in pos]\n",
    "\n",
    "def human_data_gene(move, idx):\n",
    "    layout = gamelayouts[idx]\n",
    "    \n",
    "    envs = []\n",
    "    ans = [] ## the output actions \n",
    "    if len(move) >= 19:\n",
    "        return None, None\n",
    "    \n",
    "    goal = tuple(np.argwhere(layout[3,:,:])[0])\n",
    "    new_blocked_positions = np.argwhere(layout[1,:,:])\n",
    "    cur_pos = tuple(np.argwhere(layout[2,:,:])[0])\n",
    "    for a in move:\n",
    "        change = human_exp_actions[a]\n",
    "\n",
    "        envs.append(encode_grid_design(grid_size, [goal], new_blocked_positions, cur_pos))\n",
    "        ans.append(simulation_actions.index(change))\n",
    "        \n",
    "        tmp_goal = goal\n",
    "        tmp_block = new_blocked_positions\n",
    "        tmp_pos = cur_pos\n",
    "        tmp_next = (cur_pos[0] + change[0], cur_pos[1] + change[1])\n",
    "    \n",
    "        for _ in range(3):\n",
    "            tmp_goal = rotate(tmp_goal, grid_size)\n",
    "            tmp_block = rotate(tmp_block, grid_size)\n",
    "            tmp_pos = rotate(tmp_pos, grid_size)\n",
    "            tmp_next = rotate(tmp_next, grid_size)\n",
    "            envs.append(encode_grid_design(grid_size, [tmp_goal], tmp_block, tmp_pos))\n",
    "            ans.append(get_action(tmp_pos, tmp_next))\n",
    "            \n",
    "        cur_pos = (cur_pos[0] + change[0], cur_pos[1] + change[1])\n",
    "        \n",
    "    tensor_y = torch.tensor(ans, dtype=torch.int)\n",
    "    tensor_x = torch.cat(envs).type(torch.int)\n",
    "    return tensor_x, tensor_y\n",
    "    \n",
    "x, y = human_data_gene(actions.iloc[0]['move'], actions.iloc[0]['idx'])"
   ]
  },
  {
   "cell_type": "code",
   "execution_count": null,
   "metadata": {},
   "outputs": [],
   "source": [
    "userx = []\n",
    "usery = []\n",
    "\n",
    "for i in range(200):\n",
    "    userx.append([])\n",
    "    usery.append([])\n",
    "    for j in range(15):\n",
    "        k = i * 15 + j\n",
    "        x, y = human_data_gene(actions.iloc[k]['move'], actions.iloc[k]['idx'])\n",
    "        if y is not None:\n",
    "            userx[i].append(x)\n",
    "            usery[i].append(y)\n",
    "    userx[i] = torch.cat(userx[i])\n",
    "    usery[i] = torch.cat(usery[i])"
   ]
  },
  {
   "cell_type": "code",
   "execution_count": null,
   "metadata": {},
   "outputs": [],
   "source": [
    "def get_data(idx):\n",
    "    x,y =  torch.cat([userx[i] for i in idx ]), torch.cat([usery[i] for i in idx ] ) \n",
    "    print(x.shape, y.shape)\n",
    "    return x,y\n",
    "\n",
    "trainX, trainY = get_data(train_idx)\n",
    "valX, valY = get_data(val_idx)\n",
    "testX, testY = get_data(test_idx)"
   ]
  },
  {
   "cell_type": "code",
   "execution_count": null,
   "metadata": {},
   "outputs": [],
   "source": [
    "torch.save((trainX, trainY, valX, valY, testX, testY), 'human-data/formal1-train.pt')"
   ]
  },
  {
   "cell_type": "markdown",
   "metadata": {},
   "source": [
    "## train the human model"
   ]
  },
  {
   "cell_type": "code",
   "execution_count": null,
   "metadata": {},
   "outputs": [],
   "source": [
    "device = torch.device(\"cuda:0\" if torch.cuda.is_available() else \"cpu\")"
   ]
  },
  {
   "cell_type": "code",
   "execution_count": null,
   "metadata": {},
   "outputs": [],
   "source": [
    "# data = torch.load('human-data/formal1-train.pt')\n",
    "data = torch.load('human-data/formal-train-grid10.pt')\n",
    "\n",
    "for i in range(6):\n",
    "    print(data[i].shape)\n",
    "\n",
    "trainX, trainY, valX, valY, testX, testY = data[0], data[1], data[2], data[3], data[4], data[5]\n",
    "del data\n",
    "\n",
    "np.random.seed(23)\n",
    "idx = np.arange(len(trainX))\n",
    "np.random.shuffle(idx)\n",
    "trainX = trainX[idx, :,:,:]\n",
    "trainY = trainY[idx]\n",
    "torch.unique(trainY, return_counts = True)\n",
    "\n",
    "trainX = trainX.to(device)\n",
    "trainY = trainY.to(device)\n",
    "valX = valX.to(device)\n",
    "valY = valY.to(device)\n",
    "testX = testX.to(device)\n",
    "testY = testY.to(device)\n"
   ]
  },
  {
   "cell_type": "code",
   "execution_count": null,
   "metadata": {
    "tags": []
   },
   "outputs": [],
   "source": [
    "import torch.nn as nn\n",
    "import torch.nn.functional as F\n",
    "\n",
    "class HumanNN(nn.Module):\n",
    "    def __init__(self, batch_size=2**6, batch_num=100000, num_workers=8,lr=1e-6, traindata_path=None, valdata_path=None, fc1_size = 512, state_save_path = '', reg=0):\n",
    "        super(HumanNN, self).__init__()\n",
    "        self.fc1_size = fc1_size\n",
    "        self.fc1 = nn.Linear(400, self.fc1_size) \n",
    "        self.fc2 = nn.Linear(self.fc1_size,self.fc1_size)\n",
    "        self.fc3 = nn.Linear(self.fc1_size, self.fc1_size)\n",
    "        self.fc4 = nn.Linear(self.fc1_size, 4)\n",
    "        self.sm = nn.Softmax(dim=1)\n",
    "        \n",
    "        self.batch_size = batch_size\n",
    "        self.batch_num = batch_num\n",
    "        self.num_workers = num_workers  \n",
    "        self.lr = lr\n",
    "        self.traindata_path = traindata_path\n",
    "        self.valdata_path = valdata_path\n",
    "        self.iter_count = 0\n",
    "        self.state_save_path = state_save_path\n",
    "        self.reg = reg ### ewgularization part  \n",
    "        \n",
    "    def forward(self,x):\n",
    "        out = F.relu(self.fc1(torch.flatten(x, start_dim=1).type(torch.float)))\n",
    "        out = F.relu(self.fc2(out))\n",
    "        out = F.relu(self.fc3(out))\n",
    "        out = self.sm(self.fc4(out))\n",
    "        return out\n",
    "    \n",
    "    def configure_optimizers(self):\n",
    "        return torch.optim.Adam(self.parameters(), lr=self.lr)\n",
    "    \n",
    "    def training_step(self, batch, batch_idx):\n",
    "        x, y = batch\n",
    "        y_hat = self.forward(x)\n",
    "        loss = self.loss_fn(y, y_hat)\n",
    "        celoss = -torch.mean(y * torch.log(y_hat)) \n",
    "        argloss = 0\n",
    "        self.log(\"performance\", {\"iter\": batch_idx, \"loss\": loss, \"CEloss\": celoss, \"meanbeta\":0, 'argloss':argloss, 'beta':0})\n",
    "        return celoss\n",
    "    \n",
    "    def validation_step(self, batch, batch_idx):\n",
    "        x, y = batch\n",
    "        self.iter_count += 1 \n",
    "        y_hat = self.forward(x)\n",
    "        loss = self.loss_fn(y, y_hat)\n",
    "        celoss = -torch.mean(y * torch.log(y_hat))\n",
    "        self.log(\"performance\", {\"iter\": batch_idx, \"val_loss\": loss, \"Cess\": celoss, \"meanbeta\":0, 'argloss':0, 'beta':0})\n",
    "        \n",
    "        if (self.iter_count %10 == 0 ):\n",
    "            torch.save(self.state_dict(), self.state_save_path + '_'+ str(self.iter_count) + '.pt')   \n",
    "        return celoss\n",
    "\n",
    "    def loss_fn(self, y, pred):\n",
    "        rmsel = nn.MSELoss()\n",
    "        return rmsel(y, pred)\n",
    "    \n",
    "    def train_dataloader(self):\n",
    "        if os.path.exists(self.traindata_path):\n",
    "            data = torch.load(self.traindata_path)\n",
    "            x, y = data['human_x'], data['human_y']\n",
    "            if self.batch_size * self.batch_num < x.size()[0]:\n",
    "                x, y = x[:self.batch_size * self.batch_num], y[:self.batch_size * self.batch_num]\n",
    "        else:\n",
    "            print('check train data path:', self.traindata_path)\n",
    "            sys.exit(0)\n",
    "        if self.data_augment:\n",
    "            ds = torch.utils.data.TensorDataset(x,y)\n",
    "            dl = torch.utils.data.DataLoader(ds, batch_size=self.batch_size, shuffle=False, num_workers=self.num_workers)\n",
    "        return dl\n",
    "    \n",
    "    def val_dataloader(self):\n",
    "        if os.path.exists(self.valdata_path):\n",
    "            data = torch.load(self.valdata_path)\n",
    "            x, y = data['human_x'], data['human_y']\n",
    "        else:\n",
    "            print('check validation data path:', self.valdata_path)\n",
    "            sys.exit(0)\n",
    "        ds = torch.utils.data.TensorDataset(x,y)\n",
    "        dl = torch.utils.data.DataLoader(ds, batch_size=x.size()[0], shuffle=False, num_workers=1)    \n",
    "        return dl"
   ]
  },
  {
   "cell_type": "code",
   "execution_count": null,
   "metadata": {},
   "outputs": [],
   "source": [
    "t1 = time.time()\n",
    "batch_size = 4125\n",
    "num = len(trainX)\n",
    "batch_num = num//batch_size\n",
    "\n",
    "for fc_size in [512, 1024]:\n",
    "    for lr in [0.0003, 0.001]:\n",
    "        for momentum in [0.0]:\n",
    "            for l2 in [0.0]:\n",
    "                if os.path.exists(f'human-model-formal2/model_grid10_{num}_{fc_size}_{lr}_{momentum}_{l2}.pt'):\n",
    "                    continue\n",
    "                \n",
    "                model = HumanNN(fc1_size=fc_size).to(device)\n",
    "                criterion = nn.CrossEntropyLoss()\n",
    "                optimizer = optim.SGD(model.parameters(), lr=0.1, momentum=momentum, weight_decay=l2)\n",
    "                max_iter = 4000\n",
    "                records = np.zeros([max_iter, 3]) # training loss/test loss/acc\n",
    "                for i in range(max_iter):\n",
    "                    for batch in range(batch_num):\n",
    "                        optimizer.zero_grad()\n",
    "                        pred = model.forward(trainX[batch*batch_size:(batch+1)*batch_size])\n",
    "                        loss = criterion(pred, trainY[batch*batch_size:(batch+1)*batch_size].type(dtype=torch.long))\n",
    "                        loss.backward()\n",
    "                        optimizer.step()\n",
    "                    records[i,0] = loss.item()\n",
    "                    if i % 20 == 0:\n",
    "                        with torch.no_grad():\n",
    "                            pred = model.forward(valX)\n",
    "                            pred_label = torch.argmax(pred, dim=1)\n",
    "                            acc = torch.sum((pred_label == valY))/(len(pred_label))\n",
    "                            loss_test = criterion(pred, valY.type(dtype=torch.long))\n",
    "                            records[i,1:3] = [loss_test.item(), acc.item()]\n",
    "                    if i % 1000 == 0:\n",
    "                        print(f'iter={i}, training loss={loss.item()}, testing_loss={loss_test.item()}, accuracy={acc} ,time={time.time()-t1}')        \n",
    "\n",
    "                torch.save(model, f'human-model-formal2/model_grid10_{num}_{fc_size}_{lr}_{momentum}_{l2}.pt')\n",
    "                np.savez(f'human-model-formal2/training_{num}_{fc_size}_{lr}_{momentum}_{l2}.npz', record=records)\n",
    "                print('finish ', lr, fc_size, momentum, np.max(records[:,2]))\n",
    "                print('---'*10)"
   ]
  },
  {
   "cell_type": "code",
   "execution_count": null,
   "metadata": {},
   "outputs": [],
   "source": [
    "torch.save(model, f'human-model-formal1/model_grid6_{num}_{fc_size}_{lr}_{momentum}_{l2}.pt')\n",
    "np.savez(f'human-model-formal1/training_{num}_{fc_size}_{lr}_{momentum}_{l2}.npz', record=records)\n",
    "print('finish ', lr, fc_size, momentum, np.max(records[:,2]))\n",
    "print('---'*10)"
   ]
  },
  {
   "cell_type": "code",
   "execution_count": null,
   "metadata": {},
   "outputs": [],
   "source": [
    "import os\n",
    "os.path.exists(f'human-model-formal1/model_grid6_{num}_{fc_size}_{lr}_{momentum}_{l2}.pt')"
   ]
  },
  {
   "cell_type": "code",
   "execution_count": null,
   "metadata": {},
   "outputs": [],
   "source": []
  },
  {
   "cell_type": "markdown",
   "metadata": {},
   "source": [
    "## evaluate the model"
   ]
  },
  {
   "cell_type": "code",
   "execution_count": null,
   "metadata": {},
   "outputs": [],
   "source": [
    "def evaluation(model, X, Y):\n",
    "    with torch.no_grad():\n",
    "        pred = model.forward(X)\n",
    "        pred_label = torch.argmax(pred, dim=1)\n",
    "        acc = torch.sum((pred_label == Y))/(len(Y))\n",
    "    return acc\n",
    "\n",
    "\n",
    "for fc_size in [512, 1024]:\n",
    "    for lr in [0.0003,0.001]:\n",
    "        for momentum in [0.0]:\n",
    "            for l2 in [0.0]:\n",
    "                model = torch.load(f'human-model-formal2/model_grid10_{num}_{fc_size}_{lr}_{momentum}_{l2}.pt').to( device)  \n",
    "                ans = [evaluation(model, trainX, trainY),\n",
    "                      evaluation(model, valX, valY),\n",
    "                      evaluation(model, testX, testY)]\n",
    "                print(fc_size, lr, momentum, ans)"
   ]
  },
  {
   "cell_type": "code",
   "execution_count": null,
   "metadata": {},
   "outputs": [],
   "source": [
    "torch.device('cpu')\n",
    "model = model.to(torch.device('cpu'))\n",
    "testX = testX.to(torch.device('cpu'))\n",
    "testY = testY.to(torch.device('cpu'))\n",
    "\n"
   ]
  },
  {
   "cell_type": "code",
   "execution_count": null,
   "metadata": {},
   "outputs": [],
   "source": [
    "Actions = [(1,0), (-1,0), (0,1), (0,-1)]\n",
    "\n",
    "def get_action(pos, newpos):\n",
    "    move = (int(newpos[0]-pos[0]), int(newpos[1]-pos[1]))\n",
    "    # print(move)\n",
    "    if move in Actions:\n",
    "        return Actions.index(move)\n",
    "    else:\n",
    "        return int(4)\n",
    "    \n",
    "def move_action(pos, move):\n",
    "    return (pos[0] + move[0], pos[1] + move[1])\n",
    "    \n",
    "def filter_action(layout):\n",
    "    layout = layout.numpy()\n",
    "    start = tuple(np.argwhere(layout[2,:,:])[0])  \n",
    "    end = tuple(np.argwhere(layout[3,:,:])[0])  \n",
    "    block = layout[1,:,:]\n",
    "    valid_action = [False] * 4\n",
    "    for k, move in enumerate(Actions):\n",
    "        newpos = move_action(start, move) \n",
    "        if newpos[0]<0 or newpos[0]>=10 or newpos[1]<0 or newpos[1]>=10:\n",
    "            valid_action[k] = False\n",
    "        elif block[newpos[0], newpos[1]] == 1:\n",
    "            valid_action[k] = False\n",
    "        else:\n",
    "            valid_action[k] = True\n",
    "    \n",
    "    return get_action(start, end), valid_action\n",
    "    \n",
    "test_num = len(testX)\n",
    "action_flag = np.zeros(test_num)\n",
    "valid_action = np.zeros((test_num,4))\n",
    "\n",
    "for i in range(test_num):\n",
    "    action_flag[i], valid_action[i,:] = filter_action(testX[i,:,:,:])\n",
    "    \n",
    "print(np.unique(action_flag, return_counts = True))\n",
    "print(np.unique(np.sum(valid_action, axis=1), return_counts = True))\n",
    "\n",
    "\n",
    "# (array([1., 2., 3., 4.]), array([ 44, 339, 928, 689]))\n",
    "\n"
   ]
  },
  {
   "cell_type": "code",
   "execution_count": null,
   "metadata": {},
   "outputs": [],
   "source": [
    "def filter_accuracy(y_test, pred, action_flag, valid_action):\n",
    "    pred_label = torch.argmax(pred, dim=1)\n",
    "    acc0 = torch.sum((pred_label == y_test))/(len(y_test))\n",
    "    pred_filter = pred * torch.tensor(valid_action)\n",
    "    pred_label = torch.argmax(pred_filter, dim=1)\n",
    "    acc1 = torch.sum((pred_label == y_test))/(len(y_test))\n",
    "    action_flag = torch.tensor(action_flag).to(dtype=torch.int64)\n",
    "    pred_label[action_flag!=4] = action_flag[action_flag!=4]\n",
    "    acc2 = torch.sum((pred_label == y_test))/(len(y_test))\n",
    "    return acc0, acc1, acc2\n",
    "\n",
    "pred = model.forward(testX)\n",
    "filter_accuracy(testY, pred, action_flag, valid_action)"
   ]
  },
  {
   "cell_type": "code",
   "execution_count": null,
   "metadata": {},
   "outputs": [],
   "source": []
  },
  {
   "cell_type": "code",
   "execution_count": null,
   "metadata": {},
   "outputs": [],
   "source": []
  },
  {
   "cell_type": "markdown",
   "metadata": {},
   "source": [
    "## get the path prediction"
   ]
  },
  {
   "cell_type": "code",
   "execution_count": null,
   "metadata": {},
   "outputs": [],
   "source": []
  },
  {
   "cell_type": "code",
   "execution_count": null,
   "metadata": {},
   "outputs": [],
   "source": []
  },
  {
   "cell_type": "code",
   "execution_count": null,
   "metadata": {},
   "outputs": [],
   "source": []
  },
  {
   "cell_type": "code",
   "execution_count": null,
   "metadata": {},
   "outputs": [],
   "source": []
  }
 ],
 "metadata": {
  "kernelspec": {
   "display_name": "Python 3 (ipykernel)",
   "language": "python",
   "name": "python3"
  },
  "language_info": {
   "codemirror_mode": {
    "name": "ipython",
    "version": 3
   },
   "file_extension": ".py",
   "mimetype": "text/x-python",
   "name": "python",
   "nbconvert_exporter": "python",
   "pygments_lexer": "ipython3",
   "version": "3.10.6"
  }
 },
 "nbformat": 4,
 "nbformat_minor": 4
}
