{
 "cells": [
  {
   "cell_type": "markdown",
   "id": "2ba32405",
   "metadata": {},
   "source": [
    "# use this to generate new environment designs with the corresponding dataset"
   ]
  },
  {
   "cell_type": "code",
   "execution_count": null,
   "id": "e43d6acd-60a2-4455-bf9f-8c6af5b50f45",
   "metadata": {},
   "outputs": [],
   "source": [
    "import numpy as np\n",
    "import matplotlib.pyplot as plt\n",
    "from matplotlib.colors import ListedColormap\n",
    "import random\n",
    "import torch\n",
    "import pandas as pd\n",
    "import itertools\n",
    "import math\n",
    "from mdp import GridworldMDP\n",
    "\n",
    "from collections import deque\n",
    "\n",
    "import random\n",
    "\n",
    "from utils import *\n"
   ]
  },
  {
   "cell_type": "code",
   "execution_count": null,
   "id": "842bd5de-34f5-4b40-ab3c-98240f6709c9",
   "metadata": {},
   "outputs": [],
   "source": [
    "def continuous_design_wcd(grid_size, num_goal_positions, max_iterations=100):\n",
    "    \"\"\"\n",
    "    Continuously creates designs and computes WCD.\n",
    "    Ignores environments where the shortest path to any goal is -1.\n",
    "    \"\"\"\n",
    "\n",
    "    def is_valid_environment(paths):\n",
    "        \"\"\" Check if the environment is valid (no shortest path is -1) \"\"\"\n",
    "        return all(len(path) > 0 for path in paths)\n",
    "\n",
    "    wcd_results = []\n",
    "    designs = []\n",
    "\n",
    "    for _ in range(max_iterations):\n",
    "        num_blocked_positions = random.choice(range(grid_size*2))\n",
    "        new_goal_positions, new_special_reward_positions, new_blocked_positions, start_pos = randomize_pos(grid_size, num_goal_positions, 0, num_blocked_positions)\n",
    "        \n",
    "        wcd = compute_wcd_single_env_no_paths(grid_size, new_goal_positions, new_blocked_positions, start_pos)\n",
    "        if wcd:\n",
    "            wcd_results.append(wcd)\n",
    "            designs.append(encode_grid_design(grid_size, new_goal_positions, new_blocked_positions, start_pos))\n",
    "\n",
    "    return designs,wcd_results"
   ]
  },
  {
   "cell_type": "code",
   "execution_count": null,
   "id": "aef8b1a5-0922-409a-908b-d1175c80c3bc",
   "metadata": {},
   "outputs": [],
   "source": [
    "for i in range(0, 500):\n",
    "    # try:\n",
    "        # Example usage\n",
    "    grid_size = 13\n",
    "    num_goal_positions = 2\n",
    "    max_iterations = 100  # Set the number of iterations\n",
    "\n",
    "    x,y = continuous_design_wcd(grid_size, num_goal_positions, max_iterations)\n",
    "\n",
    "    file_name = f\"./data/grid{grid_size}/model_training/dataset_wcd.pt\"\n",
    "    update_or_create_dataset(file_name, x, y)\n",
    "    # except:\n",
    "    #     pass"
   ]
  }
 ],
 "metadata": {
  "kernelspec": {
   "display_name": "Python 3 (ipykernel)",
   "language": "python",
   "name": "python3"
  },
  "language_info": {
   "codemirror_mode": {
    "name": "ipython",
    "version": 3
   },
   "file_extension": ".py",
   "mimetype": "text/x-python",
   "name": "python",
   "nbconvert_exporter": "python",
   "pygments_lexer": "ipython3",
   "version": "3.10.6"
  }
 },
 "nbformat": 4,
 "nbformat_minor": 5
}
