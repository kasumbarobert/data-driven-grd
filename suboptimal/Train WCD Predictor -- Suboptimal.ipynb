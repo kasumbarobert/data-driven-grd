{
 "cells": [
  {
   "cell_type": "code",
   "execution_count": 178,
   "id": "909e1eca-10bd-4d53-83ab-a53c90a1b0d3",
   "metadata": {},
   "outputs": [
    {
     "data": {
      "text/plain": [
       "<Figure size 960x720 with 0 Axes>"
      ]
     },
     "metadata": {},
     "output_type": "display_data"
    }
   ],
   "source": [
    "import sklearn\n",
    "import pandas as pd\n",
    "import numpy as np\n",
    "from sklearn.linear_model import LinearRegression, Ridge, Lasso,BayesianRidge, LogisticRegression,SGDClassifier\n",
    "from sklearn.model_selection import train_test_split,cross_validate\n",
    "from sklearn.metrics import mean_squared_error\n",
    "from sklearn.svm import SVR, SVC\n",
    "import seaborn as sns\n",
    "from sklearn.preprocessing import StandardScaler\n",
    "from sklearn.cluster import KMeans\n",
    "from sklearn.ensemble import RandomForestRegressor\n",
    "import matplotlib.pyplot as plt\n",
    "from sklearn.inspection import PartialDependenceDisplay\n",
    "import torch\n",
    "import ast\n",
    "from joblib import dump, load\n",
    "from sklearn.pipeline import Pipeline\n",
    "import pickle\n",
    "from IPython.display import Markdown\n",
    "\n",
    "import os\n",
    "import re\n",
    "import torch.nn as nn\n",
    "import random\n",
    "plt.figure(dpi=150)\n",
    "import cProfile\n",
    "import torch\n",
    "import torch.optim as optim\n",
    "import torch.nn.utils as utils\n",
    "import wandb\n",
    "import pdb\n",
    "from utils_suboptimal import *"
   ]
  },
  {
   "cell_type": "code",
   "execution_count": 179,
   "id": "ff697583-8ff3-4b70-95d0-0aab22ea1843",
   "metadata": {},
   "outputs": [],
   "source": [
    "os.environ[\"PYTORCH_CUDA_ALLOC_CONF\"] = \"max_split_size_mb:128\"\n",
    "GRID_SIZE = 10\n",
    "K = 8\n",
    "\n",
    "# wandb.login(relogin=True)\n",
    "# os.environ['WANDB_API_KEY'] = \"71f0a53fa4cb62b56494f6554ec1a5e3b898a7dd\"\n",
    "# wandb.login(key=\"71f0a53fa4cb62b56494f6554ec1a5e3b898a7dd\")"
   ]
  },
  {
   "cell_type": "code",
   "execution_count": 180,
   "id": "938adcae-2dd8-4910-a09d-551288871b2d",
   "metadata": {},
   "outputs": [
    {
     "name": "stdout",
     "output_type": "stream",
     "text": [
      "Not logged in.\n"
     ]
    }
   ],
   "source": [
    "# Check if the WANDB_API_KEY is set\n",
    "if \"WANDB_API_KEY\" in os.environ:\n",
    "    print(\"Logged in with API key.\")\n",
    "    user_info = wandb.api.viewer()\n",
    "    print(\"Current user:\", user_info[\"entity\"], user_info[\"username\"])\n",
    "else:\n",
    "    print(\"Not logged in.\")"
   ]
  },
  {
   "cell_type": "markdown",
   "id": "253005d4-5504-40dd-9c9d-a56bb379bb1a",
   "metadata": {},
   "source": [
    "# CNN approach to predicting WCD"
   ]
  },
  {
   "cell_type": "code",
   "execution_count": 181,
   "id": "e4fecdf9-d032-48a9-a177-57c61149c761",
   "metadata": {},
   "outputs": [
    {
     "name": "stdout",
     "output_type": "stream",
     "text": [
      "archive-data/hyperbol_simulated_envs_K8_1.pkl 38108\n"
     ]
    },
    {
     "name": "stderr",
     "output_type": "stream",
     "text": [
      "/storage1/fs1/chien-ju.ho/Active/robert/projects/Gridworld MDP/suboptimal/utils_suboptimal.py:81: UserWarning: To copy construct from a tensor, it is recommended to use sourceTensor.clone().detach() or sourceTensor.clone().detach().requires_grad_(True), rather than torch.tensor(sourceTensor).\n",
      "  x = torch.tensor(self.X[idx], dtype=torch.float32)\n",
      "/storage1/fs1/chien-ju.ho/Active/robert/projects/Gridworld MDP/suboptimal/utils_suboptimal.py:82: UserWarning: To copy construct from a tensor, it is recommended to use sourceTensor.clone().detach() or sourceTensor.clone().detach().requires_grad_(True), rather than torch.tensor(sourceTensor).\n",
      "  y = torch.tensor(self.Y[idx], dtype=torch.float32)\n"
     ]
    },
    {
     "name": "stdout",
     "output_type": "stream",
     "text": [
      "archive-data/hyperbol_simulated_envs_K8_2.pkl 45591\n",
      "archive-data/hyperbol_simulated_envs_K8_4.pkl 356872\n",
      "archive-data/hyperbol_simulated_envs_K8_5.pkl 47074\n",
      "archive-data/hyperbol_simulated_envs_K8_6.pkl 118488\n",
      "archive-data/hyperbol_simulated_envs_K8_7.pkl 181903\n",
      "archive-data/hyperbol_simulated_envs_K8_8.pkl 177317\n",
      "hyperbol_simulated_envs_K8_0.pkl 177977\n",
      "simulated_valids_final10_K8.pkl 49399\n"
     ]
    },
    {
     "data": {
      "text/plain": [
       "((1192729, 4, 10, 10), (1192729,))"
      ]
     },
     "execution_count": 181,
     "metadata": {},
     "output_type": "execute_result"
    }
   ],
   "source": [
    "#f\"simulated_valids_final{GRID_SIZE}.pkl\"\n",
    "if GRID_SIZE ==10:\n",
    "    datasets = [\n",
    "        f\"archive-data/hyperbol_simulated_envs_K{K}_1.pkl\",\n",
    "        f\"archive-data/hyperbol_simulated_envs_K{K}_2.pkl\",\n",
    "        f\"archive-data/hyperbol_simulated_envs_K{K}_3.pkl\",\n",
    "        f\"archive-data/hyperbol_simulated_envs_K{K}_4.pkl\",\n",
    "        f\"archive-data/hyperbol_simulated_envs_K{K}_5.pkl\",\n",
    "        f\"archive-data/hyperbol_simulated_envs_K{K}_6.pkl\",\n",
    "        f\"archive-data/hyperbol_simulated_envs_K{K}_7.pkl\",\n",
    "        f\"archive-data/hyperbol_simulated_envs_K{K}_8.pkl\",\n",
    "        f\"hyperbol_simulated_envs_K{K}_0.pkl\",\n",
    "        f\"simulated_valids_final10_K8.pkl\"\n",
    "    ]\n",
    "elif GRID_SIZE == 6:\n",
    "    datasets = [f\"hyperbol_simulated_envs_K{K}_0.pkl\",f\"hyperbol_simulated_envs_K{K}_1.pkl\",f\"hyperbol_simulated_envs_K{K}_2.pkl\",f\"hyperbol_simulated_envs_K{K}_3.pkl\", f\"simulated_valids_final{GRID_SIZE}_ALL_MODS_K{K}.pkl\",\n",
    "           f\"simulated_valids_final{GRID_SIZE}_BLOCKING_ONLY_K{K}.pkl\",f\"simulated_valids_final{GRID_SIZE}_BOTH_UNIFORM_K{K}.pkl\",f\"simulated_valids_final{GRID_SIZE}_K{K}.pkl\"]\n",
    "    \n",
    "loaded_data = {}\n",
    "dataset=datasets[0]\n",
    "x_data = []\n",
    "y_data = []\n",
    "for dataset in datasets:\n",
    "    if not os.path.exists(f\"data/grid{GRID_SIZE}/model_training/{dataset}\"): continue\n",
    "    with open(f\"data/grid{GRID_SIZE}/model_training/{dataset}\", \"rb\") as f:\n",
    "        loaded_dataset = pickle.load(f)\n",
    "        print(dataset,len(loaded_dataset))\n",
    "        for i in range(loaded_dataset. __len__()):\n",
    "            x_i = loaded_dataset[i][0]\n",
    "            if x_i.shape[0]==5:\n",
    "                x_i = x_i[0:4,:,:]\n",
    "                \n",
    "            x_data.append(x_i.numpy())\n",
    "            y_data.append(loaded_dataset[i][1].unsqueeze(0).item())\n",
    "\n",
    "\n",
    "X = np.stack(x_data)[:,0:4,:,:]\n",
    "Y = np.array(y_data)\n",
    "X.shape, Y.shape"
   ]
  },
  {
   "cell_type": "code",
   "execution_count": 182,
   "id": "21aa5d8c-64e2-47c6-9313-6f21db3cbe1a",
   "metadata": {},
   "outputs": [
    {
     "data": {
      "text/plain": [
       "Text(0.5, 0, 'WCD')"
      ]
     },
     "execution_count": 182,
     "metadata": {},
     "output_type": "execute_result"
    },
    {
     "data": {
      "image/png": "[encoded data removed]",
      "text/plain": [
       "<Figure size 640x480 with 1 Axes>"
      ]
     },
     "metadata": {},
     "output_type": "display_data"
    }
   ],
   "source": [
    "sns.kdeplot(Y,fill=True,bw_adjust=2)\n",
    "plt.xlabel(\"WCD\")"
   ]
  },
  {
   "cell_type": "code",
   "execution_count": 183,
   "id": "1b42dfb8-644f-414d-9f07-37c95c371e93",
   "metadata": {},
   "outputs": [
    {
     "data": {
      "text/plain": [
       "((1192729, 4, 10, 10), (1192729,))"
      ]
     },
     "execution_count": 183,
     "metadata": {},
     "output_type": "execute_result"
    }
   ],
   "source": [
    "X.shape, Y.shape"
   ]
  },
  {
   "cell_type": "code",
   "execution_count": 184,
   "id": "04b22beb-7a64-47ab-97d3-f9ab5aaf470e",
   "metadata": {},
   "outputs": [
    {
     "data": {
      "text/plain": [
       "(4.800657986852001, 3.9948361529647536)"
      ]
     },
     "execution_count": 184,
     "metadata": {},
     "output_type": "execute_result"
    }
   ],
   "source": [
    "Y.mean(), Y.std()"
   ]
  },
  {
   "cell_type": "code",
   "execution_count": 185,
   "id": "2ce912cc-61ed-44e7-8784-d9f4ebe04ab8",
   "metadata": {},
   "outputs": [
    {
     "name": "stdout",
     "output_type": "stream",
     "text": [
      "Processed chunk 1/3\n",
      "Processed chunk 2/3\n",
      "Processed chunk 3/3\n"
     ]
    }
   ],
   "source": [
    "def augment_data(chunk):\n",
    "    augmented_chunk = np.concatenate([\n",
    "        chunk,\n",
    "        chunk[:, :, :, ::-1],        # Flip along the last axis\n",
    "        chunk[:, :, ::-1, :],        # Flip along the second to last axis\n",
    "        np.rot90(chunk, k=1, axes=(2, 3)), # Rotate 90 degrees\n",
    "        np.rot90(chunk, k=3, axes=(2, 3)), # Rotate 270 degrees\n",
    "        np.rot90(chunk, k=2, axes=(2, 3)), # Rotate 180 degrees\n",
    "        chunk.transpose(0, 1, 3, 2)  # Transpose axes\n",
    "    ])\n",
    "    return augmented_chunk\n",
    "\n",
    "# Assuming X and Y are already loaded into memory\n",
    "x_train, x_test, y_train, y_test = train_test_split(X, Y, test_size=0.10)\n",
    "X, Y = None, None  # Free up memory\n",
    "\n",
    "chunk_size = 2048*200 # Define the size of each chunk\n",
    "num_chunks = len(x_train) // chunk_size + (1 if len(x_train) % chunk_size != 0 else 0)\n",
    "\n",
    "x_train_path = \"data/grid10/model_training/train_test/x_train.npy\"\n",
    "y_train_path = \"data/grid10/model_training/train_test/y_train.npy\"\n",
    "\n",
    "# Open files for writing\n",
    "x_train_file = open(x_train_path, 'wb')\n",
    "y_train_file = open(y_train_path, 'wb')\n",
    "\n",
    "for i in range(num_chunks):\n",
    "    start_idx = i * chunk_size\n",
    "    end_idx = min(start_idx + chunk_size, len(x_train))\n",
    "    \n",
    "    x_chunk = x_train[start_idx:end_idx]\n",
    "    y_chunk = y_train[start_idx:end_idx]\n",
    "    \n",
    "    # Augment data\n",
    "    x_augmented = augment_data(x_chunk)\n",
    "    y_augmented = np.concatenate([y_chunk, y_chunk, y_chunk, y_chunk, y_chunk, y_chunk,y_chunk])\n",
    "    \n",
    "    # Save augmented data to file\n",
    "    np.save(x_train_file, x_augmented)\n",
    "    np.save(y_train_file, y_augmented)\n",
    "    \n",
    "    print(f'Processed chunk {i+1}/{num_chunks}')\n",
    "    \n",
    "# Close the files\n",
    "x_train_file.close()\n",
    "y_train_file.close()\n",
    "\n",
    "n_channels = x_train.shape[1]\n",
    "# Clear variables to free up memory\n",
    "x_train, y_train, x_chunk, y_chunk, x_augmented, y_augmented = None, None, None, None, None, None\n",
    "\n",
    "# Save the test data\n",
    "np.save(\"data/grid10/model_training/x_test.npy\", x_test)\n",
    "np.save(\"data/grid10/model_training/y_test.npy\", y_test)"
   ]
  },
  {
   "cell_type": "code",
   "execution_count": 186,
   "id": "d87fac75-13b2-4c0d-9d4f-edba24083fd2",
   "metadata": {},
   "outputs": [],
   "source": [
    "# x_train,x_test, y_train,y_test = train_test_split(X,Y, test_size=0.05)\n",
    "# x_train = np.concatenate([x_train[:, :, :, ::-1],x_train,x_train[:, :, ::-1, :],np.rot90(x_train, k=1, axes=(2, 3)),\n",
    "#                           np.rot90(x_train, k=3, axes=(2, 3)),np.rot90(x_train, k=2, axes=(2, 3)),\n",
    "#                           x_train.transpose(0, 1, 3, 2)])\n",
    "\n",
    "# y_train = np.concatenate([y_train,y_train,y_train,y_train,y_train,y_train,y_train])\n",
    "# x_train.shape, x_test.shape"
   ]
  },
  {
   "cell_type": "code",
   "execution_count": 187,
   "id": "c753beda-5c14-411e-86df-ce37543cd584",
   "metadata": {},
   "outputs": [],
   "source": [
    "out_sample_set = CustomDataset(x_test,y_test)\n",
    "with open(f\"data/grid{GRID_SIZE}/model_training/dataset_{GRID_SIZE}_K{K}.pkl\", \"wb\") as f:\n",
    "    pickle.dump(out_sample_set, f)"
   ]
  },
  {
   "cell_type": "code",
   "execution_count": 188,
   "id": "a1a0f91e-f02f-4e17-ad44-31c9e992cfad",
   "metadata": {},
   "outputs": [
    {
     "data": {
      "text/plain": [
       "((113310, 4, 10, 10), (5963, 4, 10, 10))"
      ]
     },
     "execution_count": 188,
     "metadata": {},
     "output_type": "execute_result"
    }
   ],
   "source": [
    "x_test,x_val,y_test,y_val = train_test_split(x_test,y_test, test_size=0.95, random_state=50)\n",
    "x_val.shape, x_test.shape"
   ]
  },
  {
   "cell_type": "code",
   "execution_count": 189,
   "id": "e804dadb-dd22-4f3d-9217-58b230fcdb13",
   "metadata": {},
   "outputs": [],
   "source": [
    "import torch.optim as optim\n",
    "from torch.utils.data import DataLoader, TensorDataset\n",
    "import wandb"
   ]
  },
  {
   "cell_type": "code",
   "execution_count": 190,
   "id": "abeefd39-c836-4991-9a73-54df479f592a",
   "metadata": {},
   "outputs": [],
   "source": [
    "x_test = torch.from_numpy(x_test).float()\n",
    "y_test = torch.from_numpy(np.array(y_test)).float()\n",
    "x_val = torch.from_numpy(x_val).float()\n",
    "y_val = torch.from_numpy(np.array(y_val)).float()"
   ]
  },
  {
   "cell_type": "code",
   "execution_count": 191,
   "id": "2abe42b9-6cf8-4ce6-aeae-146852f83f20",
   "metadata": {},
   "outputs": [],
   "source": [
    "class CustomCNN(nn.Module):\n",
    "    def __init__(self, n_channels=13,drop_out = 0.01,size = 3):\n",
    "        super(CustomCNN, self).__init__()\n",
    "\n",
    "        # First block (no pooling)\n",
    "        self.conv1 = nn.Sequential(\n",
    "            nn.Conv2d(n_channels, 64, kernel_size=3, padding=1),\n",
    "            nn.BatchNorm2d(64),\n",
    "            nn.ReLU(),\n",
    "            nn.Conv2d(64, 64, kernel_size=3, padding=1),\n",
    "            nn.BatchNorm2d(64),\n",
    "            nn.ReLU(),\n",
    "            nn.Conv2d(64, 128, kernel_size=3, padding=1),\n",
    "            nn.BatchNorm2d(128),\n",
    "            nn.ReLU()\n",
    "        )\n",
    "\n",
    "        # Second block with pooling\n",
    "        self.conv2 = nn.Sequential(\n",
    "            nn.Conv2d(128, 128, kernel_size=3, padding=1),\n",
    "            nn.BatchNorm2d(128),\n",
    "            nn.ReLU(),\n",
    "            nn.MaxPool2d(kernel_size=2, stride=2),\n",
    "            nn.Conv2d(128, 256, kernel_size=3, padding=1),\n",
    "            nn.BatchNorm2d(256),\n",
    "            nn.ReLU()\n",
    "        )\n",
    "        \n",
    "        # # Second block with pooling\n",
    "        # self.conv3 = nn.Sequential(\n",
    "        #     nn.Conv2d(256, 256, kernel_size=3, padding=1),\n",
    "        #     nn.BatchNorm2d(256),\n",
    "        #     nn.ReLU(),\n",
    "        #     nn.MaxPool2d(kernel_size=2, stride=2),\n",
    "        #     nn.Conv2d(256, 512, kernel_size=3, padding=1),\n",
    "        #     nn.BatchNorm2d(512),\n",
    "        #     nn.ReLU()\n",
    "        # )\n",
    "\n",
    "\n",
    "        self.conv_output_size = 256 * size*size\n",
    "        # Fully connected layers\n",
    "        self.fc_layers = nn.Sequential(\n",
    "            nn.Linear(self.conv_output_size, 16), # 3 for 6 & 7 \n",
    "            nn.LeakyReLU(),\n",
    "            # nn.Dropout(0.01),\n",
    "            nn.Linear(16, 8),\n",
    "            nn.ReLU(),\n",
    "            nn.Dropout(drop_out),\n",
    "            nn.Linear(8, 1),\n",
    "            nn.ReLU()\n",
    "        )\n",
    "        \n",
    "\n",
    "    def forward(self, x):\n",
    "        x = self.conv1(x)\n",
    "        # pdb.set_trace()\n",
    "        x = self.conv2(x)\n",
    "        # x = self.conv3(x)\n",
    "        # print(x.shape)\n",
    "        x = x.view(-1, self.conv_output_size)\n",
    "        x = self.fc_layers(x)\n",
    "        return x\n",
    "\n",
    "class CNN4(nn.Module):\n",
    "    def __init__(self, n_channels=13,drop_out=0.01):\n",
    "        super(CNN4, self).__init__()\n",
    "\n",
    "        # Replace the first seven convolutional layers with ResNet50\n",
    "        self.resnet50 = resnet18(pretrained=False)\n",
    "\n",
    "        self.resnet50.conv1=self.conv1 = nn.Conv2d(n_channels, 64, kernel_size=3, stride=1, padding=1)\n",
    "        self.resnet50.maxpool = nn.Identity()\n",
    "        # self.resnet50.bn1 = nn.BatchNorm2d(8)\n",
    "\n",
    "        # Keep the rest of the architecture as-is\n",
    "        self.fc1 = nn.Linear(1000, 8)\n",
    "        self.relu8 = nn.LeakyReLU()\n",
    "        self.dropout1 = nn.Dropout(0.0001)\n",
    "\n",
    "        self.fc2 = nn.Linear(8, 4)\n",
    "        self.relu9 = nn.LeakyReLU()\n",
    "        self.dropout2 = nn.Dropout(drop_out)\n",
    "\n",
    "        self.fc3 = nn.Linear(4, 1)\n",
    "        self.softplus = nn.functional.softplus\n",
    "        self.reluN =nn.ReLU()\n",
    "\n",
    "    def forward(self, x):\n",
    "        x = self.resnet50(x)\n",
    "        # pdb.set_trace()\n",
    "        # print(x.shape)\n",
    "        x = x.view(-1, 1000)\n",
    "        \n",
    "        x = self.fc1(x)\n",
    "        x = self.relu8(x)\n",
    "\n",
    "\n",
    "        x = self.fc2(x)\n",
    "        x = self.relu9(x)\n",
    "        x = self.dropout2(x)\n",
    "\n",
    "        x = self.reluN(self.fc3(x))\n",
    "        # x = self.softplus(self.fc4(x))\n",
    "\n",
    "        return x\n",
    "\n",
    "class CNN16(nn.Module):\n",
    "    def __init__(self, n_channels=13,drop_out=0.01):\n",
    "        super(CNN16, self).__init__()\n",
    "\n",
    "        # Replace the first seven convolutional layers with ResNet50\n",
    "        self.resnet50 = resnet18(pretrained=False)\n",
    "\n",
    "        self.resnet50.conv1=self.conv1 = nn.Conv2d(n_channels, 64, kernel_size=3, stride=1, padding=1)\n",
    "        self.resnet50.maxpool = nn.Identity()\n",
    "        # self.resnet50.bn1 = nn.BatchNorm2d(8)\n",
    "\n",
    "        # Keep the rest of the architecture as-is\n",
    "        self.fc1 = nn.Linear(1000, 16)\n",
    "        self.relu8 = nn.LeakyReLU()\n",
    "        self.dropout1 = nn.Dropout(0.0001)\n",
    "\n",
    "        self.fc2 = nn.Linear(16, 8)\n",
    "        self.relu9 = nn.LeakyReLU()\n",
    "        self.dropout2 = nn.Dropout(drop_out)\n",
    "\n",
    "        self.fc3 = nn.Linear(8, 1)\n",
    "        self.softplus = nn.functional.softplus\n",
    "        self.reluN =nn.ReLU()\n",
    "\n",
    "    def forward(self, x):\n",
    "        x = self.resnet50(x)\n",
    "        # pdb.set_trace()\n",
    "        # print(x.shape)\n",
    "        x = x.view(-1, 1000)\n",
    "        \n",
    "        x = self.fc1(x)\n",
    "        x = self.relu8(x)\n",
    "\n",
    "\n",
    "        x = self.fc2(x)\n",
    "        x = self.relu9(x)\n",
    "        x = self.dropout2(x)\n",
    "\n",
    "        x = self.reluN(self.fc3(x))\n",
    "        # x = self.softplus(self.fc4(x))\n",
    "\n",
    "        return x"
   ]
  },
  {
   "cell_type": "code",
   "execution_count": 192,
   "id": "fe889d56-fc24-4640-9614-268dfd746d1f",
   "metadata": {},
   "outputs": [],
   "source": [
    "def evaluate_and_log(best_model, x_val, y_val, epoch, wandb=None):\n",
    "    def predict_in_batches(model, x, batch_size):\n",
    "        n_batches = len(x) // batch_size + (len(x) % batch_size != 0)\n",
    "        all_preds = []\n",
    "        \n",
    "        for i in range(n_batches):\n",
    "            x_batch = x[i * batch_size: (i + 1) * batch_size]\n",
    "            preds_batch = model(x_batch.cuda()).detach()\n",
    "            all_preds.append(preds_batch)\n",
    "        \n",
    "        return torch.cat(all_preds, dim=0).cpu()\n",
    "\n",
    "    val_pred = predict_in_batches(best_model, x_val, 1024)  # Adjust batch size as per memory needs\n",
    "    \n",
    "    if wandb:\n",
    "        wandb.log({\n",
    "            \"epoch\": epoch,\n",
    "            \"mse_val_small\": nn.MSELoss()(val_pred[y_val <= GRID_SIZE/2], y_val.view(-1, 1)[y_val <= GRID_SIZE/2]).item(),\n",
    "            \"mse_val_big\": nn.MSELoss()(val_pred[y_val > GRID_SIZE/2], y_val.view(-1, 1)[y_val > GRID_SIZE/2]).item(),\n",
    "            \"mse_val_loss\": nn.MSELoss()(val_pred, y_val.view(-1, 1)).item(),\n",
    "            \"val_loss\": nn.HuberLoss()(val_pred, y_val.view(-1, 1)).item(),\n",
    "            \"valid_mean_wcd\": val_pred[y_val != INVALID_WCD].mean(),\n",
    "            \"invalid_mean_wcd\": val_pred[y_val == INVALID_WCD].mean(),\n",
    "            \"valid_h_loss\": nn.HuberLoss()(val_pred[y_val != INVALID_WCD], y_val.view(-1, 1)[y_val != INVALID_WCD]).item(),\n",
    "            \"invalid_h_loss\": nn.HuberLoss()(val_pred[y_val == INVALID_WCD], y_val.view(-1, 1)[y_val == INVALID_WCD]).item(),\n",
    "            \"valid_mse_loss\": nn.MSELoss()(val_pred[y_val != INVALID_WCD], y_val.view(-1, 1)[y_val != INVALID_WCD]).item(),\n",
    "            \"invalid_mse_loss\": nn.MSELoss()(val_pred[y_val == INVALID_WCD], y_val.view(-1, 1)[y_val == INVALID_WCD]).item(),\n",
    "        })\n",
    "    return nn.HuberLoss()(val_pred, y_val.view(-1, 1)).item() ,nn.MSELoss()(val_pred, y_val.view(-1, 1)).item()"
   ]
  },
  {
   "cell_type": "code",
   "execution_count": 193,
   "id": "983ecf88-674d-417d-b168-4b1b1b3794e6",
   "metadata": {},
   "outputs": [],
   "source": [
    "# batch_size = 1024//2 #512 for smaller (6,7,8)\n",
    "# dataset = TensorDataset(torch.from_numpy(x_train).float(), torch.from_numpy(np.array(y_train)).float())\n",
    "# dataloader = DataLoader(dataset, batch_size=batch_size, shuffle=True)"
   ]
  },
  {
   "cell_type": "code",
   "execution_count": 194,
   "id": "b4e8fe7d-b29b-4e33-9110-9854122f4dc6",
   "metadata": {},
   "outputs": [],
   "source": [
    "class NpyDataset(Dataset):\n",
    "    def __init__(self, x_file, y_file, chunk_size=2048):\n",
    "        self.x_data = np.load(x_file, mmap_mode='r')\n",
    "        self.y_data = np.load(y_file, mmap_mode='r')\n",
    "        self.chunk_size = chunk_size\n",
    "\n",
    "        assert len(self.x_data) == len(self.y_data), \"Mismatch in X and Y lengths\"\n",
    "\n",
    "    def __len__(self):\n",
    "        return len(self.x_data)\n",
    "\n",
    "    def __getitem__(self, idx):\n",
    "        x_sample = self.x_data[idx]\n",
    "        y_sample = self.y_data[idx]\n",
    "\n",
    "        # Ensure the data has the correct dimensions\n",
    "        x_sample = np.expand_dims(x_sample, axis=0)  # Add channel dimension if needed\n",
    "\n",
    "        return torch.tensor(x_sample, dtype=torch.float32).squeeze(0), torch.tensor(y_sample, dtype=torch.float32)\n",
    "\n",
    "\n",
    "# Usage\n",
    "x_file_path = 'data/grid10/model_training/train_test/x_train.npy'\n",
    "y_file_path = 'data/grid10/model_training/train_test/y_train.npy'\n",
    "chunk_size = 2048\n",
    "\n",
    "dataset = NpyDataset(x_file_path, y_file_path, chunk_size=chunk_size)\n",
    "dataloader = DataLoader(dataset, batch_size=chunk_size, shuffle=True,num_workers =4)"
   ]
  },
  {
   "cell_type": "code",
   "execution_count": 195,
   "id": "97ea0237-da7f-42ab-9230-085a69bac331",
   "metadata": {},
   "outputs": [],
   "source": [
    "if GRID_SIZE in [6,7,8]:\n",
    "    dropout = 0.1\n",
    "    lambda_l2 =0.0 #0.1 regularization strength\n",
    "    grad_clip =1e-3 # 1e-3 for 6,7,8\n",
    "    lr=0.001 #0.005 for 6,7,8\n",
    "    num_epochs = 10# 3 for 6,7,8\n",
    "else:\n",
    "    dropout = 0.5\n",
    "    lambda_l2 = 1 #0.1 regularization strength\n",
    "    grad_clip =1e-3 # 1e-3 for 6,7,8\n",
    "    lr=0.001 #0.005 for 6,7,8\n",
    "    num_epochs = 20# 3 for 6,7,8\n"
   ]
  },
  {
   "cell_type": "code",
   "execution_count": 196,
   "id": "26ce5668-67f4-4f8f-890d-2bdfbc6b2c2e",
   "metadata": {},
   "outputs": [
    {
     "name": "stderr",
     "output_type": "stream",
     "text": [
      "/home/k.robert/.local/lib/python3.10/site-packages/torchvision/models/_utils.py:208: UserWarning: The parameter 'pretrained' is deprecated since 0.13 and may be removed in the future, please use 'weights' instead.\n",
      "  warnings.warn(\n",
      "/home/k.robert/.local/lib/python3.10/site-packages/torchvision/models/_utils.py:223: UserWarning: Arguments other than a weight enum or `None` for 'weights' are deprecated since 0.13 and may be removed in the future. The current behavior is equivalent to passing `weights=None`.\n",
      "  warnings.warn(msg)\n"
     ]
    }
   ],
   "source": [
    "# model = CustomCNN(n_channels=x_train.shape[1],drop_out=dropout,size = GRID_SIZE//2).cuda() #GRID_SIZE//2\n",
    "model = CNN4(n_channels=x_test.shape[1],drop_out=dropout).cuda() #\n",
    "# model = torch.load(\"models/wcd_nn_oracle_july6.pt\")"
   ]
  },
  {
   "cell_type": "code",
   "execution_count": 197,
   "id": "a5135505-daf1-4b0f-8f73-035d1be4d8d1",
   "metadata": {},
   "outputs": [],
   "source": [
    "# # init_model = torch.load(\"models/wcd_10_init.pt\")\n",
    "init_model = torch.load(f\"models/wcd_nn_model_10_K4_best.pt\") \n",
    "\n",
    "model = init_model\n",
    "model.dropout1 = nn.Dropout(dropout)"
   ]
  },
  {
   "cell_type": "code",
   "execution_count": 198,
   "id": "3814307a-ac07-4b4b-8fa3-214389b69fd4",
   "metadata": {},
   "outputs": [
    {
     "name": "stdout",
     "output_type": "stream",
     "text": [
      "Total number of parameters: 11698633\n"
     ]
    }
   ],
   "source": [
    "total_params = 0\n",
    "for parameter in model.parameters():\n",
    "    # print(parameter.shape)\n",
    "    total_params += parameter.numel()  # numel() returns the total number of elements in the tensor\n",
    "\n",
    "print(f\"Total number of parameters: {total_params}\") #636673"
   ]
  },
  {
   "cell_type": "code",
   "execution_count": 199,
   "id": "db86fd46-3225-4343-8864-66ea3326fe3a",
   "metadata": {},
   "outputs": [],
   "source": [
    "# model = VGGNet(n_channels = x_train.shape[1]).cuda()"
   ]
  },
  {
   "cell_type": "code",
   "execution_count": null,
   "id": "fae6b7aa-1826-4afd-b255-62294247b98c",
   "metadata": {},
   "outputs": [],
   "source": []
  },
  {
   "cell_type": "code",
   "execution_count": 200,
   "id": "80944fdb-434a-4b2e-b388-1f69393a57e3",
   "metadata": {
    "tags": []
   },
   "outputs": [
    {
     "name": "stdout",
     "output_type": "stream",
     "text": [
      "Starting Training\n",
      "5.204107284545898\n",
      "4.380393981933594\n",
      "Val 1 4.305889129638672\n",
      "3.4356870651245117\n",
      "3.5523338317871094\n",
      "Val 3 4.041098117828369\n",
      "3.5748772621154785\n",
      "3.0250582695007324\n",
      "Val 5 3.885674238204956\n",
      "3.1208958625793457\n",
      "2.849114418029785\n",
      "Val 7 3.921125888824463\n",
      "2.7798516750335693\n",
      "3.085690975189209\n",
      "Val 9 3.8988802433013916\n",
      "2.6944422721862793\n",
      "2.6701138019561768\n",
      "Val 11 3.9673004150390625\n",
      "2.3617870807647705\n",
      "2.124331474304199\n",
      "Val 13 4.090606689453125\n",
      "2.503791570663452\n",
      "2.023668050765991\n",
      "Val 15 4.18707799911499\n",
      "2.0468380451202393\n",
      "2.078791618347168\n",
      "Val 17 4.261697769165039\n",
      "1.9971163272857666\n",
      "1.8275350332260132\n",
      "Val 19 4.195367336273193\n"
     ]
    },
    {
     "data": {
      "image/png": "[encoded data removed]",
      "text/plain": [
       "<Figure size 640x480 with 1 Axes>"
      ]
     },
     "metadata": {},
     "output_type": "display_data"
    }
   ],
   "source": [
    "use_wandb = False\n",
    "if use_wandb:\n",
    "    wandb.init(project='gridworld', save_code=False, config={\"lambda_l2\": lambda_l2, \"grad_clip\":grad_clip,\n",
    "                                                              \"n_train\":x_train.shape[0],\"GRID_SIZE\":GRID_SIZE,\"dropout\":dropout,\n",
    "                                                              \"lr\":lr,\"batch_size\":batch_size, \"experiment\":\"gridworld\"})\n",
    "# create dataset and dataloader\n",
    "# initialize model and optimizer\n",
    "optimizer = optim.Adam(model.parameters(), lr=lr)\n",
    "scheduler = optim.lr_scheduler.MultiStepLR(optimizer, milestones=[12,25,45,55], gamma=0.5)\n",
    "\n",
    "# training loop\n",
    "\n",
    "best_model = model\n",
    "log_interval = 2\n",
    "\n",
    "def train():\n",
    "    training_loss = []\n",
    "    val_mse_loss =[]\n",
    "    val_huber_loss = []\n",
    "    x_epochs = []\n",
    "    \n",
    "    lowest_loss = torch.inf\n",
    "    for epoch in range(num_epochs):\n",
    "        for i, (inputs, targets) in enumerate(dataloader):\n",
    "            optimizer.zero_grad()\n",
    "            \n",
    "            # print(inputs[:,0,:,:].mean())\n",
    "            # forward pass\n",
    "            outputs = model(inputs.cuda())\n",
    "            # targets = targets.cuda()\n",
    "\n",
    "            # compute loss and perform backpropagation\n",
    "            y_true = targets.view(-1, 1).cuda()\n",
    "            loss = nn.MSELoss()(outputs, y_true)\n",
    "            mse_loss = loss.item()\n",
    "            \n",
    "            # l2_reg = lambda_l2 * torch.norm(torch.cat([p.view(-1) for p in model.parameters()]), p=2)  # L2 regularization term\n",
    "            # loss += l2_reg\n",
    "            \n",
    "            loss.backward()\n",
    "            utils.clip_grad_norm_(model.parameters(), grad_clip)\n",
    "            optimizer.step()\n",
    "            if loss < lowest_loss:\n",
    "                lowest_loss = loss.item()\n",
    "                best_model = model\n",
    "            \n",
    "            if (i + 1) % 1000*log_interval == 0:\n",
    "                if use_wandb:\n",
    "                    wandb.log({\"loss\": mse_loss})\n",
    "                print(mse_loss)\n",
    "                \n",
    "\n",
    "        if (epoch + 1) % log_interval == 0:\n",
    "            val_huber,val_mse = evaluate_and_log(best_model, x_val, y_val, epoch, wandb=wandb if use_wandb else None )\n",
    "            val_mse_loss.append(val_mse)\n",
    "            val_huber_loss.append(val_huber)\n",
    "            training_loss.append(mse_loss)\n",
    "            x_epochs.append(epoch)\n",
    "            print(\"Val\",epoch,val_mse)\n",
    "            \n",
    "            # plt.plot(x_epochs,training_loss, label=\"Training\")\n",
    "            # plt.plot(x_epochs,val_mse_loss, label=\"Validation\")\n",
    "            # plt.show()\n",
    "            \n",
    "        scheduler.step()\n",
    "        torch.save(best_model, f\"models/wcd_nn_model_{GRID_SIZE}_K{K}.pt\")\n",
    "    plt.plot(x_epochs,training_loss, label=\"Training\")\n",
    "    plt.plot(x_epochs,val_mse_loss, label=\"Validation\")\n",
    "\n",
    "    # Adding labels\n",
    "    plt.xlabel(\"Epochs\")\n",
    "    plt.ylabel(\"Loss\")\n",
    "    plt.title(\"Training and Validation MSE Loss\")\n",
    "\n",
    "    # Setting y-axis limits and grid lines in intervals of 5\n",
    "    # plt.ylim(0, 30)\n",
    "    # plt.yticks(range(0, 21, 5))\n",
    "    plt.grid(axis='y')\n",
    "\n",
    "    plt.legend()\n",
    "    plt.show()\n",
    "print('Starting Training')\n",
    "# Start profiling\n",
    "profiler = cProfile.Profile()\n",
    "profiler.enable()\n",
    "\n",
    "# Run the training loop\n",
    "train()\n",
    "\n",
    "# Stop profiling\n",
    "profiler.disable()\n",
    "# profiler.print_stats()\n",
    "\n",
    "wandb.finish()\n"
   ]
  },
  {
   "cell_type": "code",
   "execution_count": 201,
   "id": "560007ba-9f57-4c84-82a3-59fb52b0f837",
   "metadata": {},
   "outputs": [],
   "source": [
    "# nn.MSELoss()(best_model(x_test),y_test.view(-1, 1))"
   ]
  },
  {
   "cell_type": "code",
   "execution_count": 202,
   "id": "647a0d3a-7821-4e2e-96d3-0cf84ad3b6f5",
   "metadata": {},
   "outputs": [
    {
     "ename": "RuntimeError",
     "evalue": "Input type (torch.FloatTensor) and weight type (torch.cuda.FloatTensor) should be the same or input should be a MKLDNN tensor and weight is a dense tensor",
     "output_type": "error",
     "traceback": [
      "\u001b[0;31m---------------------------------------------------------------------------\u001b[0m",
      "\u001b[0;31mRuntimeError\u001b[0m                              Traceback (most recent call last)",
      "Cell \u001b[0;32mIn [202], line 1\u001b[0m\n\u001b[0;32m----> 1\u001b[0m nn\u001b[38;5;241m.\u001b[39mHuberLoss()(\u001b[43mbest_model\u001b[49m\u001b[43m(\u001b[49m\u001b[43mx_test\u001b[49m\u001b[43m)\u001b[49m,y_test\u001b[38;5;241m.\u001b[39mview(\u001b[38;5;241m-\u001b[39m\u001b[38;5;241m1\u001b[39m, \u001b[38;5;241m1\u001b[39m)\u001b[38;5;241m.\u001b[39mcuda())\n",
      "File \u001b[0;32m~/.local/lib/python3.10/site-packages/torch/nn/modules/module.py:1194\u001b[0m, in \u001b[0;36mModule._call_impl\u001b[0;34m(self, *input, **kwargs)\u001b[0m\n\u001b[1;32m   1190\u001b[0m \u001b[38;5;66;03m# If we don't have any hooks, we want to skip the rest of the logic in\u001b[39;00m\n\u001b[1;32m   1191\u001b[0m \u001b[38;5;66;03m# this function, and just call forward.\u001b[39;00m\n\u001b[1;32m   1192\u001b[0m \u001b[38;5;28;01mif\u001b[39;00m \u001b[38;5;129;01mnot\u001b[39;00m (\u001b[38;5;28mself\u001b[39m\u001b[38;5;241m.\u001b[39m_backward_hooks \u001b[38;5;129;01mor\u001b[39;00m \u001b[38;5;28mself\u001b[39m\u001b[38;5;241m.\u001b[39m_forward_hooks \u001b[38;5;129;01mor\u001b[39;00m \u001b[38;5;28mself\u001b[39m\u001b[38;5;241m.\u001b[39m_forward_pre_hooks \u001b[38;5;129;01mor\u001b[39;00m _global_backward_hooks\n\u001b[1;32m   1193\u001b[0m         \u001b[38;5;129;01mor\u001b[39;00m _global_forward_hooks \u001b[38;5;129;01mor\u001b[39;00m _global_forward_pre_hooks):\n\u001b[0;32m-> 1194\u001b[0m     \u001b[38;5;28;01mreturn\u001b[39;00m \u001b[43mforward_call\u001b[49m\u001b[43m(\u001b[49m\u001b[38;5;241;43m*\u001b[39;49m\u001b[38;5;28;43minput\u001b[39;49m\u001b[43m,\u001b[49m\u001b[43m \u001b[49m\u001b[38;5;241;43m*\u001b[39;49m\u001b[38;5;241;43m*\u001b[39;49m\u001b[43mkwargs\u001b[49m\u001b[43m)\u001b[49m\n\u001b[1;32m   1195\u001b[0m \u001b[38;5;66;03m# Do not call functions when jit is used\u001b[39;00m\n\u001b[1;32m   1196\u001b[0m full_backward_hooks, non_full_backward_hooks \u001b[38;5;241m=\u001b[39m [], []\n",
      "Cell \u001b[0;32mIn [191], line 90\u001b[0m, in \u001b[0;36mCNN4.forward\u001b[0;34m(self, x)\u001b[0m\n\u001b[1;32m     89\u001b[0m \u001b[38;5;28;01mdef\u001b[39;00m \u001b[38;5;21mforward\u001b[39m(\u001b[38;5;28mself\u001b[39m, x):\n\u001b[0;32m---> 90\u001b[0m     x \u001b[38;5;241m=\u001b[39m \u001b[38;5;28;43mself\u001b[39;49m\u001b[38;5;241;43m.\u001b[39;49m\u001b[43mresnet50\u001b[49m\u001b[43m(\u001b[49m\u001b[43mx\u001b[49m\u001b[43m)\u001b[49m\n\u001b[1;32m     91\u001b[0m     \u001b[38;5;66;03m# pdb.set_trace()\u001b[39;00m\n\u001b[1;32m     92\u001b[0m     \u001b[38;5;66;03m# print(x.shape)\u001b[39;00m\n\u001b[1;32m     93\u001b[0m     x \u001b[38;5;241m=\u001b[39m x\u001b[38;5;241m.\u001b[39mview(\u001b[38;5;241m-\u001b[39m\u001b[38;5;241m1\u001b[39m, \u001b[38;5;241m1000\u001b[39m)\n",
      "File \u001b[0;32m~/.local/lib/python3.10/site-packages/torch/nn/modules/module.py:1194\u001b[0m, in \u001b[0;36mModule._call_impl\u001b[0;34m(self, *input, **kwargs)\u001b[0m\n\u001b[1;32m   1190\u001b[0m \u001b[38;5;66;03m# If we don't have any hooks, we want to skip the rest of the logic in\u001b[39;00m\n\u001b[1;32m   1191\u001b[0m \u001b[38;5;66;03m# this function, and just call forward.\u001b[39;00m\n\u001b[1;32m   1192\u001b[0m \u001b[38;5;28;01mif\u001b[39;00m \u001b[38;5;129;01mnot\u001b[39;00m (\u001b[38;5;28mself\u001b[39m\u001b[38;5;241m.\u001b[39m_backward_hooks \u001b[38;5;129;01mor\u001b[39;00m \u001b[38;5;28mself\u001b[39m\u001b[38;5;241m.\u001b[39m_forward_hooks \u001b[38;5;129;01mor\u001b[39;00m \u001b[38;5;28mself\u001b[39m\u001b[38;5;241m.\u001b[39m_forward_pre_hooks \u001b[38;5;129;01mor\u001b[39;00m _global_backward_hooks\n\u001b[1;32m   1193\u001b[0m         \u001b[38;5;129;01mor\u001b[39;00m _global_forward_hooks \u001b[38;5;129;01mor\u001b[39;00m _global_forward_pre_hooks):\n\u001b[0;32m-> 1194\u001b[0m     \u001b[38;5;28;01mreturn\u001b[39;00m \u001b[43mforward_call\u001b[49m\u001b[43m(\u001b[49m\u001b[38;5;241;43m*\u001b[39;49m\u001b[38;5;28;43minput\u001b[39;49m\u001b[43m,\u001b[49m\u001b[43m \u001b[49m\u001b[38;5;241;43m*\u001b[39;49m\u001b[38;5;241;43m*\u001b[39;49m\u001b[43mkwargs\u001b[49m\u001b[43m)\u001b[49m\n\u001b[1;32m   1195\u001b[0m \u001b[38;5;66;03m# Do not call functions when jit is used\u001b[39;00m\n\u001b[1;32m   1196\u001b[0m full_backward_hooks, non_full_backward_hooks \u001b[38;5;241m=\u001b[39m [], []\n",
      "File \u001b[0;32m~/.local/lib/python3.10/site-packages/torchvision/models/resnet.py:285\u001b[0m, in \u001b[0;36mResNet.forward\u001b[0;34m(self, x)\u001b[0m\n\u001b[1;32m    284\u001b[0m \u001b[38;5;28;01mdef\u001b[39;00m \u001b[38;5;21mforward\u001b[39m(\u001b[38;5;28mself\u001b[39m, x: Tensor) \u001b[38;5;241m-\u001b[39m\u001b[38;5;241m>\u001b[39m Tensor:\n\u001b[0;32m--> 285\u001b[0m     \u001b[38;5;28;01mreturn\u001b[39;00m \u001b[38;5;28;43mself\u001b[39;49m\u001b[38;5;241;43m.\u001b[39;49m\u001b[43m_forward_impl\u001b[49m\u001b[43m(\u001b[49m\u001b[43mx\u001b[49m\u001b[43m)\u001b[49m\n",
      "File \u001b[0;32m~/.local/lib/python3.10/site-packages/torchvision/models/resnet.py:268\u001b[0m, in \u001b[0;36mResNet._forward_impl\u001b[0;34m(self, x)\u001b[0m\n\u001b[1;32m    266\u001b[0m \u001b[38;5;28;01mdef\u001b[39;00m \u001b[38;5;21m_forward_impl\u001b[39m(\u001b[38;5;28mself\u001b[39m, x: Tensor) \u001b[38;5;241m-\u001b[39m\u001b[38;5;241m>\u001b[39m Tensor:\n\u001b[1;32m    267\u001b[0m     \u001b[38;5;66;03m# See note [TorchScript super()]\u001b[39;00m\n\u001b[0;32m--> 268\u001b[0m     x \u001b[38;5;241m=\u001b[39m \u001b[38;5;28;43mself\u001b[39;49m\u001b[38;5;241;43m.\u001b[39;49m\u001b[43mconv1\u001b[49m\u001b[43m(\u001b[49m\u001b[43mx\u001b[49m\u001b[43m)\u001b[49m\n\u001b[1;32m    269\u001b[0m     x \u001b[38;5;241m=\u001b[39m \u001b[38;5;28mself\u001b[39m\u001b[38;5;241m.\u001b[39mbn1(x)\n\u001b[1;32m    270\u001b[0m     x \u001b[38;5;241m=\u001b[39m \u001b[38;5;28mself\u001b[39m\u001b[38;5;241m.\u001b[39mrelu(x)\n",
      "File \u001b[0;32m~/.local/lib/python3.10/site-packages/torch/nn/modules/module.py:1194\u001b[0m, in \u001b[0;36mModule._call_impl\u001b[0;34m(self, *input, **kwargs)\u001b[0m\n\u001b[1;32m   1190\u001b[0m \u001b[38;5;66;03m# If we don't have any hooks, we want to skip the rest of the logic in\u001b[39;00m\n\u001b[1;32m   1191\u001b[0m \u001b[38;5;66;03m# this function, and just call forward.\u001b[39;00m\n\u001b[1;32m   1192\u001b[0m \u001b[38;5;28;01mif\u001b[39;00m \u001b[38;5;129;01mnot\u001b[39;00m (\u001b[38;5;28mself\u001b[39m\u001b[38;5;241m.\u001b[39m_backward_hooks \u001b[38;5;129;01mor\u001b[39;00m \u001b[38;5;28mself\u001b[39m\u001b[38;5;241m.\u001b[39m_forward_hooks \u001b[38;5;129;01mor\u001b[39;00m \u001b[38;5;28mself\u001b[39m\u001b[38;5;241m.\u001b[39m_forward_pre_hooks \u001b[38;5;129;01mor\u001b[39;00m _global_backward_hooks\n\u001b[1;32m   1193\u001b[0m         \u001b[38;5;129;01mor\u001b[39;00m _global_forward_hooks \u001b[38;5;129;01mor\u001b[39;00m _global_forward_pre_hooks):\n\u001b[0;32m-> 1194\u001b[0m     \u001b[38;5;28;01mreturn\u001b[39;00m \u001b[43mforward_call\u001b[49m\u001b[43m(\u001b[49m\u001b[38;5;241;43m*\u001b[39;49m\u001b[38;5;28;43minput\u001b[39;49m\u001b[43m,\u001b[49m\u001b[43m \u001b[49m\u001b[38;5;241;43m*\u001b[39;49m\u001b[38;5;241;43m*\u001b[39;49m\u001b[43mkwargs\u001b[49m\u001b[43m)\u001b[49m\n\u001b[1;32m   1195\u001b[0m \u001b[38;5;66;03m# Do not call functions when jit is used\u001b[39;00m\n\u001b[1;32m   1196\u001b[0m full_backward_hooks, non_full_backward_hooks \u001b[38;5;241m=\u001b[39m [], []\n",
      "File \u001b[0;32m~/.local/lib/python3.10/site-packages/torch/nn/modules/conv.py:463\u001b[0m, in \u001b[0;36mConv2d.forward\u001b[0;34m(self, input)\u001b[0m\n\u001b[1;32m    462\u001b[0m \u001b[38;5;28;01mdef\u001b[39;00m \u001b[38;5;21mforward\u001b[39m(\u001b[38;5;28mself\u001b[39m, \u001b[38;5;28minput\u001b[39m: Tensor) \u001b[38;5;241m-\u001b[39m\u001b[38;5;241m>\u001b[39m Tensor:\n\u001b[0;32m--> 463\u001b[0m     \u001b[38;5;28;01mreturn\u001b[39;00m \u001b[38;5;28;43mself\u001b[39;49m\u001b[38;5;241;43m.\u001b[39;49m\u001b[43m_conv_forward\u001b[49m\u001b[43m(\u001b[49m\u001b[38;5;28;43minput\u001b[39;49m\u001b[43m,\u001b[49m\u001b[43m \u001b[49m\u001b[38;5;28;43mself\u001b[39;49m\u001b[38;5;241;43m.\u001b[39;49m\u001b[43mweight\u001b[49m\u001b[43m,\u001b[49m\u001b[43m \u001b[49m\u001b[38;5;28;43mself\u001b[39;49m\u001b[38;5;241;43m.\u001b[39;49m\u001b[43mbias\u001b[49m\u001b[43m)\u001b[49m\n",
      "File \u001b[0;32m~/.local/lib/python3.10/site-packages/torch/nn/modules/conv.py:459\u001b[0m, in \u001b[0;36mConv2d._conv_forward\u001b[0;34m(self, input, weight, bias)\u001b[0m\n\u001b[1;32m    455\u001b[0m \u001b[38;5;28;01mif\u001b[39;00m \u001b[38;5;28mself\u001b[39m\u001b[38;5;241m.\u001b[39mpadding_mode \u001b[38;5;241m!=\u001b[39m \u001b[38;5;124m'\u001b[39m\u001b[38;5;124mzeros\u001b[39m\u001b[38;5;124m'\u001b[39m:\n\u001b[1;32m    456\u001b[0m     \u001b[38;5;28;01mreturn\u001b[39;00m F\u001b[38;5;241m.\u001b[39mconv2d(F\u001b[38;5;241m.\u001b[39mpad(\u001b[38;5;28minput\u001b[39m, \u001b[38;5;28mself\u001b[39m\u001b[38;5;241m.\u001b[39m_reversed_padding_repeated_twice, mode\u001b[38;5;241m=\u001b[39m\u001b[38;5;28mself\u001b[39m\u001b[38;5;241m.\u001b[39mpadding_mode),\n\u001b[1;32m    457\u001b[0m                     weight, bias, \u001b[38;5;28mself\u001b[39m\u001b[38;5;241m.\u001b[39mstride,\n\u001b[1;32m    458\u001b[0m                     _pair(\u001b[38;5;241m0\u001b[39m), \u001b[38;5;28mself\u001b[39m\u001b[38;5;241m.\u001b[39mdilation, \u001b[38;5;28mself\u001b[39m\u001b[38;5;241m.\u001b[39mgroups)\n\u001b[0;32m--> 459\u001b[0m \u001b[38;5;28;01mreturn\u001b[39;00m \u001b[43mF\u001b[49m\u001b[38;5;241;43m.\u001b[39;49m\u001b[43mconv2d\u001b[49m\u001b[43m(\u001b[49m\u001b[38;5;28;43minput\u001b[39;49m\u001b[43m,\u001b[49m\u001b[43m \u001b[49m\u001b[43mweight\u001b[49m\u001b[43m,\u001b[49m\u001b[43m \u001b[49m\u001b[43mbias\u001b[49m\u001b[43m,\u001b[49m\u001b[43m \u001b[49m\u001b[38;5;28;43mself\u001b[39;49m\u001b[38;5;241;43m.\u001b[39;49m\u001b[43mstride\u001b[49m\u001b[43m,\u001b[49m\n\u001b[1;32m    460\u001b[0m \u001b[43m                \u001b[49m\u001b[38;5;28;43mself\u001b[39;49m\u001b[38;5;241;43m.\u001b[39;49m\u001b[43mpadding\u001b[49m\u001b[43m,\u001b[49m\u001b[43m \u001b[49m\u001b[38;5;28;43mself\u001b[39;49m\u001b[38;5;241;43m.\u001b[39;49m\u001b[43mdilation\u001b[49m\u001b[43m,\u001b[49m\u001b[43m \u001b[49m\u001b[38;5;28;43mself\u001b[39;49m\u001b[38;5;241;43m.\u001b[39;49m\u001b[43mgroups\u001b[49m\u001b[43m)\u001b[49m\n",
      "\u001b[0;31mRuntimeError\u001b[0m: Input type (torch.FloatTensor) and weight type (torch.cuda.FloatTensor) should be the same or input should be a MKLDNN tensor and weight is a dense tensor"
     ]
    }
   ],
   "source": [
    "nn.HuberLoss()(best_model(x_test),y_test.view(-1, 1).cuda())"
   ]
  },
  {
   "cell_type": "code",
   "execution_count": null,
   "id": "55be394c-7bfa-4d36-9000-fcc86afbe96c",
   "metadata": {},
   "outputs": [],
   "source": [
    "torch.mean(abs(best_model(x_test)-y_test.view(-1, 1)))"
   ]
  },
  {
   "cell_type": "code",
   "execution_count": null,
   "id": "73be668d-a11e-40da-9560-025e3795c29e",
   "metadata": {},
   "outputs": [],
   "source": [
    "torch.mean(abs(best_model(x_test)-y_test.view(-1, 1)))"
   ]
  },
  {
   "cell_type": "code",
   "execution_count": null,
   "id": "389a1bca-e16a-406d-bb4b-8fc66a7a47a4",
   "metadata": {},
   "outputs": [],
   "source": [
    "sns.kdeplot(best_model(x_test).cpu().detach().numpy(), fill=True,label=\"Pred\")\n",
    "sns.kdeplot(y_test.view(-1, 1).cpu().detach().numpy(), fill=True,label=\"True\")\n",
    "plt.legend()"
   ]
  },
  {
   "cell_type": "code",
   "execution_count": null,
   "id": "84e5d5c9-d3d1-4c79-9936-328fb14656e7",
   "metadata": {},
   "outputs": [],
   "source": [
    "torch.save(best_model,f\"models/wcd_nn_oracle_{GRID_SIZE}.pt\")"
   ]
  },
  {
   "cell_type": "code",
   "execution_count": null,
   "id": "41b87779-e16b-4fbe-a328-79525a6122f0",
   "metadata": {},
   "outputs": [],
   "source": [
    "x_test.shape"
   ]
  },
  {
   "cell_type": "code",
   "execution_count": null,
   "id": "c2ad49c0-5b45-49ca-bcc3-e2e1d65894ab",
   "metadata": {},
   "outputs": [],
   "source": []
  }
 ],
 "metadata": {
  "kernelspec": {
   "display_name": "Python 3 (ipykernel)",
   "language": "python",
   "name": "python3"
  },
  "language_info": {
   "codemirror_mode": {
    "name": "ipython",
    "version": 3
   },
   "file_extension": ".py",
   "mimetype": "text/x-python",
   "name": "python",
   "nbconvert_exporter": "python",
   "pygments_lexer": "ipython3",
   "version": "3.10.6"
  }
 },
 "nbformat": 4,
 "nbformat_minor": 5
}
