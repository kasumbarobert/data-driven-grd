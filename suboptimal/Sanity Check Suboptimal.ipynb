{
 "cells": [
  {
   "cell_type": "code",
   "execution_count": 121,
   "id": "345ed03b-7be8-4046-ba14-ffdcaa6a3bbb",
   "metadata": {},
   "outputs": [],
   "source": [
    "import sys\n",
    "# sys.path.insert(0, \"./\")\n",
    "# sys.path.insert(0, \"../../\")\n",
    "import torch\n",
    "from torch.utils.data import Dataset\n",
    "from utils_suboptimal import *\n",
    "import random\n",
    "import matplotlib.pyplot as plt\n",
    "\n",
    "from torchvision.models import resnet50, resnet18\n",
    "import argparse\n",
    "import traceback\n",
    "import seaborn as sns\n",
    "import numpy as np\n",
    "import ast"
   ]
  },
  {
   "cell_type": "code",
   "execution_count": 122,
   "id": "c21ca7f9-7114-405c-90cb-726f79e5faf8",
   "metadata": {},
   "outputs": [],
   "source": [
    "GRID_SIZE =6\n",
    "experiment_label =\"ALL_MODS_test\"\n",
    "cost = 0\n",
    "def read_csv(filename):\n",
    "    \"\"\"\n",
    "    Reads numbers from a CSV file and returns them as a list of lists.\n",
    "\n",
    "    Args:\n",
    "    filename (str): The name of the CSV file.\n",
    "\n",
    "    Returns:\n",
    "    list of lists: Each sublist contains numbers from a row in the CSV file.\n",
    "    \"\"\"\n",
    "    data = []\n",
    "    with open(filename, 'r') as file:\n",
    "        reader = csv.reader(file)\n",
    "        for row in reader:\n",
    "            # Convert each string in the row to an integer\n",
    "            number_row = [ast.literal_eval(item) for item in row]\n",
    "            data.append(number_row)\n",
    "    return data "
   ]
  },
  {
   "cell_type": "code",
   "execution_count": 123,
   "id": "33c364e8-63d4-43aa-99a9-c9aace140ee8",
   "metadata": {},
   "outputs": [
    {
     "data": {
      "text/plain": [
       "(1834, 1834)"
      ]
     },
     "execution_count": 123,
     "metadata": {},
     "output_type": "execute_result"
    }
   ],
   "source": [
    "true_wcds = read_csv(f\"data/grid{GRID_SIZE}/true_wcds_{GRID_SIZE}_{experiment_label}.csv\")\n",
    "pred_wcds = read_csv(f\"data/grid{GRID_SIZE}/pred_wcds_{GRID_SIZE}_{experiment_label}.csv\")\n",
    "len(true_wcds[0]),len(pred_wcds[0])"
   ]
  },
  {
   "cell_type": "code",
   "execution_count": null,
   "id": "213eac53-a052-4c6c-94f3-8534b5a051a8",
   "metadata": {},
   "outputs": [],
   "source": []
  },
  {
   "cell_type": "code",
   "execution_count": 124,
   "id": "0df5ecf3-cf71-4efe-972a-85b826155baa",
   "metadata": {},
   "outputs": [
    {
     "data": {
      "text/plain": [
       "Text(0, 0.5, 'True WCD')"
      ]
     },
     "execution_count": 124,
     "metadata": {},
     "output_type": "execute_result"
    },
    {
     "data": {
      "image/png": "[encoded data removed]",
      "text/plain": [
       "<Figure size 640x480 with 1 Axes>"
      ]
     },
     "metadata": {},
     "output_type": "display_data"
    }
   ],
   "source": [
    "plt.scatter(pred_wcds[0],true_wcds[0])\n",
    "plt.xlabel(\"Predicted WCD\")\n",
    "plt.ylabel(\"True WCD\")"
   ]
  },
  {
   "cell_type": "code",
   "execution_count": null,
   "id": "b740a6ae-db6a-4cc7-a8f5-11969442cda5",
   "metadata": {},
   "outputs": [],
   "source": []
  },
  {
   "cell_type": "code",
   "execution_count": 125,
   "id": "5f97afeb-77c3-401d-989c-4eefc1d1b6c3",
   "metadata": {},
   "outputs": [
    {
     "name": "stderr",
     "output_type": "stream",
     "text": [
      "/storage1/fs1/chien-ju.ho/Active/robert/projects/Gridworld MDP/suboptimal/utils_suboptimal.py:81: UserWarning: To copy construct from a tensor, it is recommended to use sourceTensor.clone().detach() or sourceTensor.clone().detach().requires_grad_(True), rather than torch.tensor(sourceTensor).\n",
      "  x = torch.tensor(self.X[idx], dtype=torch.float32)\n",
      "/storage1/fs1/chien-ju.ho/Active/robert/projects/Gridworld MDP/suboptimal/utils_suboptimal.py:82: UserWarning: To copy construct from a tensor, it is recommended to use sourceTensor.clone().detach() or sourceTensor.clone().detach().requires_grad_(True), rather than torch.tensor(sourceTensor).\n",
      "  y = torch.tensor(self.Y[idx], dtype=torch.float32)\n"
     ]
    }
   ],
   "source": [
    "with open(f\"data/grid{GRID_SIZE}/initial_envs_{GRID_SIZE}_{experiment_label}.pkl\", \"rb\") as f:\n",
    "    loaded_dataset = pickle.load(f)\n",
    "    x_data = []\n",
    "    y_data = []\n",
    "    for i in range(loaded_dataset. __len__()):\n",
    "        \n",
    "        x_data.append(loaded_dataset[i][0].unsqueeze(0))\n",
    "        y_data.append(loaded_dataset[i][1].unsqueeze(0))\n",
    "\n",
    "    x_init_data = torch.cat(x_data).numpy()\n",
    "    y_init_data = torch.cat(y_data).numpy()"
   ]
  },
  {
   "cell_type": "code",
   "execution_count": 126,
   "id": "7893329f-0aa8-4ae0-8cec-7feea0f26bcb",
   "metadata": {},
   "outputs": [],
   "source": [
    "model = torch.load(f\"models/wcd_nn_model_{GRID_SIZE}_best.pt\")\n",
    "    \n",
    "model = model.cuda().eval()"
   ]
  },
  {
   "cell_type": "code",
   "execution_count": null,
   "id": "72b43531-2891-4704-9446-1a4f83158a40",
   "metadata": {},
   "outputs": [],
   "source": []
  },
  {
   "cell_type": "code",
   "execution_count": 127,
   "id": "5d55b97c-b7ee-4cb5-a74f-4c075b4e0bd2",
   "metadata": {},
   "outputs": [],
   "source": [
    "with open(f\"data/grid{GRID_SIZE}/final_envs_{GRID_SIZE}_{experiment_label}.pkl\", \"rb\") as f:\n",
    "    loaded_dataset = pickle.load(f)\n",
    "    x_data = []\n",
    "    y_data = []\n",
    "    for i in range(loaded_dataset. __len__()):\n",
    "        \n",
    "        x_data.append(loaded_dataset[i][0].unsqueeze(0))\n",
    "        y_data.append(loaded_dataset[i][1].unsqueeze(0))\n",
    "\n",
    "    x_final_data = torch.cat(x_data).numpy()\n",
    "    y_final_data = torch.cat(y_data).numpy()"
   ]
  },
  {
   "cell_type": "code",
   "execution_count": null,
   "id": "60d2bcb5-8637-445e-aa78-fd5f8abf775c",
   "metadata": {},
   "outputs": [],
   "source": []
  },
  {
   "cell_type": "code",
   "execution_count": 128,
   "id": "cb41e4f4-abdc-411b-90c9-b7963cdd17aa",
   "metadata": {},
   "outputs": [
    {
     "data": {
      "text/plain": [
       "<matplotlib.legend.Legend at 0x7f122c463130>"
      ]
     },
     "execution_count": 128,
     "metadata": {},
     "output_type": "execute_result"
    },
    {
     "data": {
      "image/png": "[encoded data removed]",
      "text/plain": [
       "<Figure size 640x480 with 1 Axes>"
      ]
     },
     "metadata": {},
     "output_type": "display_data"
    }
   ],
   "source": [
    "sns.kdeplot(y_init_data,label=\"Initial Environment\")\n",
    "sns.kdeplot(y_final_data,label=\"Final Environment\")\n",
    "plt.xlabel(\"WCD\")\n",
    "plt.legend()"
   ]
  },
  {
   "cell_type": "code",
   "execution_count": 129,
   "id": "89c872d7-79a8-4ea1-a6a1-c876979e61c7",
   "metadata": {},
   "outputs": [],
   "source": [
    "def find_ranges(gamma, ranges):\n",
    "    in_range = None\n",
    "    not_in_range = None\n",
    "\n",
    "    for r in ranges:\n",
    "        if r[0] < gamma < r[1]:\n",
    "            in_range = r\n",
    "        else:\n",
    "            # Select the first range in which gamma does not fall\n",
    "            if not_in_range is None:\n",
    "                not_in_range = r\n",
    "\n",
    "    return in_range, not_in_range\n",
    "\n",
    "# Example usage\n",
    "gamma_value = 0.8 \n"
   ]
  },
  {
   "cell_type": "code",
   "execution_count": 130,
   "id": "2b8ee1ea-670f-470c-9280-fd5f545f4e0f",
   "metadata": {},
   "outputs": [],
   "source": [
    "# for i in range(0,2000,100):\n",
    "#     print(compute_true_wcd(x_final_data[i])-y_final_data[i])"
   ]
  },
  {
   "cell_type": "code",
   "execution_count": 131,
   "id": "bf84cae2-9233-481a-8c84-317436a99036",
   "metadata": {},
   "outputs": [
    {
     "name": "stdout",
     "output_type": "stream",
     "text": [
      "Percentage reduced 0.26516700749829586\n"
     ]
    }
   ],
   "source": [
    "# Successful environments\n",
    "x_final_good = x_final_data[y_final_data<y_init_data]\n",
    "y_final_good = y_final_data[y_final_data<y_init_data]\n",
    "\n",
    "x_init_good = x_init_data[y_final_data<y_init_data]\n",
    "y_init_good = y_init_data[y_final_data<y_init_data]\n",
    "\n",
    "print(\"Percentage reduced\",y_init_good.shape[0]/y_init_data.shape[0])"
   ]
  },
  {
   "cell_type": "code",
   "execution_count": 132,
   "id": "133d1728-0d0e-405c-bf8e-32ee5e3990a8",
   "metadata": {},
   "outputs": [
    {
     "data": {
      "text/plain": [
       "(3.4781492, 1.813307)"
      ]
     },
     "execution_count": 132,
     "metadata": {},
     "output_type": "execute_result"
    }
   ],
   "source": [
    "(y_init_good-y_final_good).mean(), (y_init_good-y_final_good).std()"
   ]
  },
  {
   "cell_type": "code",
   "execution_count": 133,
   "id": "38a3a29e-0c2e-4b47-ad96-c09c2cd0a3eb",
   "metadata": {},
   "outputs": [
    {
     "data": {
      "text/plain": [
       "(389,)"
      ]
     },
     "execution_count": 133,
     "metadata": {},
     "output_type": "execute_result"
    }
   ],
   "source": [
    "x_changes = x_final_good[:, 1, :, :]-x_init_good[:, 1, :, :]\n",
    "    \n",
    "# blockings = torch.sum(F.softplus(x_changes))  # Softplus for positive changes (additions)\n",
    "# removals = torch.sum(F.softplus(-x_changes)) # Softplus for negative changes (removals)\n",
    "blockings = (x_changes==1).sum(axis=(1, 2))\n",
    "removals = (x_changes==-1).sum(axis=(1, 2))\n",
    "removals.shape"
   ]
  },
  {
   "cell_type": "code",
   "execution_count": 134,
   "id": "769ac4c9-3733-4fdb-b2b2-2075ce1637a5",
   "metadata": {},
   "outputs": [
    {
     "data": {
      "text/plain": [
       "<matplotlib.colorbar.Colorbar at 0x7f12259f4040>"
      ]
     },
     "execution_count": 134,
     "metadata": {},
     "output_type": "execute_result"
    },
    {
     "data": {
      "image/png": "[encoded data removed]",
      "text/plain": [
       "<Figure size 640x480 with 2 Axes>"
      ]
     },
     "metadata": {},
     "output_type": "display_data"
    }
   ],
   "source": [
    "plt.scatter(blockings,removals, c=y_final_good, cmap='hot')\n",
    "plt.xlabel(\"Blockings\")\n",
    "plt.ylabel(\"Removals\")\n",
    "# Adding a color bar to interpret the budget values\n",
    "plt.colorbar(label='Final WCD')"
   ]
  },
  {
   "cell_type": "code",
   "execution_count": 135,
   "id": "9c842c6f-3655-47a9-8999-e25cd7008082",
   "metadata": {
    "tags": []
   },
   "outputs": [
    {
     "data": {
      "text/plain": [
       "0.049079754601226995"
      ]
     },
     "execution_count": 135,
     "metadata": {},
     "output_type": "execute_result"
    }
   ],
   "source": [
    "# worsened environments\n",
    "x_final_bad = x_final_data[y_final_data>y_init_data]\n",
    "y_final_bad = y_final_data[y_final_data>y_init_data]\n",
    "\n",
    "x_init_bad = x_init_data[y_final_data>y_init_data]\n",
    "y_init_bad = y_init_data[y_final_data>y_init_data]\n",
    "y_init_bad.shape[0]/y_init_data.shape[0]"
   ]
  },
  {
   "cell_type": "code",
   "execution_count": 136,
   "id": "2373a09b-c55b-4dd5-a76b-eee3409703f1",
   "metadata": {
    "tags": []
   },
   "outputs": [
    {
     "data": {
      "text/plain": [
       "0.6857532379004772"
      ]
     },
     "execution_count": 136,
     "metadata": {},
     "output_type": "execute_result"
    }
   ],
   "source": [
    "# neutral environments\n",
    "x_final_neutral = x_final_data[y_final_data==y_init_data]\n",
    "y_final_neutral = y_final_data[y_final_data==y_init_data]\n",
    "\n",
    "x_init_neutral = x_init_data[y_final_data==y_init_data]\n",
    "y_init_neutral = y_init_data[y_final_data==y_init_data]\n",
    "y_init_neutral.shape[0]/y_init_data.shape[0]"
   ]
  },
  {
   "cell_type": "code",
   "execution_count": 137,
   "id": "4d2b023c-073b-4a74-9926-6ec75617ce62",
   "metadata": {},
   "outputs": [],
   "source": [
    "def display_init_final(x_init,y_init,x_final,y_final, start_from_idx =0, display_interval = 10):\n",
    "    for idx in range(start_from_idx,x_init.shape[0],display_interval):\n",
    "        \n",
    "        x_i = x_init[idx]\n",
    "        x_k = x_final[idx]\n",
    "        x_changes = x_k[1, :, :]-x_i[1, :, :]\n",
    "        \n",
    "        blockings = (x_changes==1).sum()\n",
    "        removals = (x_changes==-1).sum()\n",
    "        if removals> 0 and blockings>0:\n",
    "            print(idx)\n",
    "            print(\"Init true WCD = \",y_init[idx],\"Pred WCD: \",round(model(torch.tensor(x_i).unsqueeze(0).cuda()).item(),2))\n",
    "            plot_grid(decode_grid_design(x_i,return_map= True).tolist())\n",
    "\n",
    "\n",
    "\n",
    "\n",
    "            print(\"Final WCD = \",y_final[idx],\"Pred WCD: \",round(model(torch.tensor(x_k).unsqueeze(0).cuda()).item(),2), \"Num changes\",blockings+removals,[blockings,removals])\n",
    "            plot_grid(decode_grid_design(x_k,return_map= True).tolist())\n",
    "\n",
    "            print(\"\\n =========================\")\n"
   ]
  },
  {
   "cell_type": "code",
   "execution_count": 138,
   "id": "558b0a8a-25e1-42ea-81d3-5b8fe803fb4f",
   "metadata": {
    "tags": []
   },
   "outputs": [
    {
     "name": "stdout",
     "output_type": "stream",
     "text": [
      "10\n",
      "Init true WCD =  4.0 Pred WCD:  4.66\n"
     ]
    },
    {
     "ename": "NameError",
     "evalue": "name 'decode_grid_design' is not defined",
     "output_type": "error",
     "traceback": [
      "\u001b[0;31m---------------------------------------------------------------------------\u001b[0m",
      "\u001b[0;31mNameError\u001b[0m                                 Traceback (most recent call last)",
      "Cell \u001b[0;32mIn [138], line 1\u001b[0m\n\u001b[0;32m----> 1\u001b[0m \u001b[43mdisplay_init_final\u001b[49m\u001b[43m(\u001b[49m\u001b[43mx_init_good\u001b[49m\u001b[43m,\u001b[49m\u001b[43my_init_good\u001b[49m\u001b[43m,\u001b[49m\u001b[43mx_final_good\u001b[49m\u001b[43m,\u001b[49m\u001b[43my_final_good\u001b[49m\u001b[43m,\u001b[49m\u001b[43m \u001b[49m\u001b[43mstart_from_idx\u001b[49m\u001b[43m \u001b[49m\u001b[38;5;241;43m=\u001b[39;49m\u001b[38;5;241;43m10\u001b[39;49m\u001b[43m,\u001b[49m\u001b[43m \u001b[49m\u001b[43mdisplay_interval\u001b[49m\u001b[43m \u001b[49m\u001b[38;5;241;43m=\u001b[39;49m\u001b[43m \u001b[49m\u001b[38;5;241;43m2\u001b[39;49m\u001b[43m)\u001b[49m\n",
      "Cell \u001b[0;32mIn [137], line 13\u001b[0m, in \u001b[0;36mdisplay_init_final\u001b[0;34m(x_init, y_init, x_final, y_final, start_from_idx, display_interval)\u001b[0m\n\u001b[1;32m     11\u001b[0m \u001b[38;5;28mprint\u001b[39m(idx)\n\u001b[1;32m     12\u001b[0m \u001b[38;5;28mprint\u001b[39m(\u001b[38;5;124m\"\u001b[39m\u001b[38;5;124mInit true WCD = \u001b[39m\u001b[38;5;124m\"\u001b[39m,y_init[idx],\u001b[38;5;124m\"\u001b[39m\u001b[38;5;124mPred WCD: \u001b[39m\u001b[38;5;124m\"\u001b[39m,\u001b[38;5;28mround\u001b[39m(model(torch\u001b[38;5;241m.\u001b[39mtensor(x_i)\u001b[38;5;241m.\u001b[39munsqueeze(\u001b[38;5;241m0\u001b[39m)\u001b[38;5;241m.\u001b[39mcuda())\u001b[38;5;241m.\u001b[39mitem(),\u001b[38;5;241m2\u001b[39m))\n\u001b[0;32m---> 13\u001b[0m plot_grid(\u001b[43mdecode_grid_design\u001b[49m(x_i,return_map\u001b[38;5;241m=\u001b[39m \u001b[38;5;28;01mTrue\u001b[39;00m)\u001b[38;5;241m.\u001b[39mtolist())\n\u001b[1;32m     18\u001b[0m \u001b[38;5;28mprint\u001b[39m(\u001b[38;5;124m\"\u001b[39m\u001b[38;5;124mFinal WCD = \u001b[39m\u001b[38;5;124m\"\u001b[39m,y_final[idx],\u001b[38;5;124m\"\u001b[39m\u001b[38;5;124mPred WCD: \u001b[39m\u001b[38;5;124m\"\u001b[39m,\u001b[38;5;28mround\u001b[39m(model(torch\u001b[38;5;241m.\u001b[39mtensor(x_k)\u001b[38;5;241m.\u001b[39munsqueeze(\u001b[38;5;241m0\u001b[39m)\u001b[38;5;241m.\u001b[39mcuda())\u001b[38;5;241m.\u001b[39mitem(),\u001b[38;5;241m2\u001b[39m), \u001b[38;5;124m\"\u001b[39m\u001b[38;5;124mNum changes\u001b[39m\u001b[38;5;124m\"\u001b[39m,blockings\u001b[38;5;241m+\u001b[39mremovals,[blockings,removals])\n\u001b[1;32m     19\u001b[0m plot_grid(decode_grid_design(x_k,return_map\u001b[38;5;241m=\u001b[39m \u001b[38;5;28;01mTrue\u001b[39;00m)\u001b[38;5;241m.\u001b[39mtolist())\n",
      "\u001b[0;31mNameError\u001b[0m: name 'decode_grid_design' is not defined"
     ]
    }
   ],
   "source": [
    "display_init_final(x_init_good,y_init_good,x_final_good,y_final_good, start_from_idx =10, display_interval = 2)"
   ]
  },
  {
   "cell_type": "code",
   "execution_count": null,
   "id": "1212ef27-2fce-4a0d-b28c-26b4315b30dd",
   "metadata": {},
   "outputs": [],
   "source": [
    "display_init_final(x_init_bad,y_init_bad,x_final_bad,y_final_bad, start_from_idx =0, display_interval = 10) "
   ]
  },
  {
   "cell_type": "code",
   "execution_count": null,
   "id": "ee55b7bd-8852-4528-8ff1-5537e2684044",
   "metadata": {
    "tags": []
   },
   "outputs": [],
   "source": [
    "display_init_final(x_init_neutral,y_init_neutral,x_final_neutral,y_final_neutral, start_from_idx =0, display_interval = 10)"
   ]
  },
  {
   "cell_type": "code",
   "execution_count": 1,
   "id": "e634e98c-c7d6-4ff4-b9ce-44f28eee3d0a",
   "metadata": {
    "tags": []
   },
   "outputs": [
    {
     "ename": "NameError",
     "evalue": "name 'np' is not defined",
     "output_type": "error",
     "traceback": [
      "\u001b[0;31m---------------------------------------------------------------------------\u001b[0m",
      "\u001b[0;31mNameError\u001b[0m                                 Traceback (most recent call last)",
      "Cell \u001b[0;32mIn [1], line 1\u001b[0m\n\u001b[0;32m----> 1\u001b[0m \u001b[43mnp\u001b[49m\u001b[38;5;241m.\u001b[39mround([\u001b[38;5;241m0.5\u001b[39m,\u001b[38;5;241m0.5\u001b[39m])\n",
      "\u001b[0;31mNameError\u001b[0m: name 'np' is not defined"
     ]
    }
   ],
   "source": []
  },
  {
   "cell_type": "code",
   "execution_count": null,
   "id": "8676a8b8-2024-4b9d-bc38-64241fdf14f8",
   "metadata": {},
   "outputs": [],
   "source": []
  }
 ],
 "metadata": {
  "kernelspec": {
   "display_name": "Python 3 (ipykernel)",
   "language": "python",
   "name": "python3"
  },
  "language_info": {
   "codemirror_mode": {
    "name": "ipython",
    "version": 3
   },
   "file_extension": ".py",
   "mimetype": "text/x-python",
   "name": "python",
   "nbconvert_exporter": "python",
   "pygments_lexer": "ipython3",
   "version": "3.10.6"
  }
 },
 "nbformat": 4,
 "nbformat_minor": 5
}
