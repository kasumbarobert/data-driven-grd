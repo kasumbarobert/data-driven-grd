{
 "cells": [
  {
   "cell_type": "code",
   "execution_count": null,
   "id": "2eaa19f9-ed3e-45b1-9ec0-7f5b4a89f30f",
   "metadata": {},
   "outputs": [],
   "source": [
    "import sys\n",
    "# sys.path.insert(0, \"./\")\n",
    "# sys.path.insert(0, \"../../\")\n",
    "import torch\n",
    "from torch.utils.data import Dataset\n",
    "from utils_suboptimal import *\n",
    "import random\n",
    "import matplotlib.pyplot as plt\n",
    "\n",
    "from torchvision.models import resnet50, resnet18\n",
    "import argparse\n",
    "import traceback\n",
    "import time\n",
    "import seaborn as sns\n",
    "import pdb\n",
    "import torch.nn.functional as F\n",
    "import json"
   ]
  },
  {
   "cell_type": "code",
   "execution_count": null,
   "id": "9bb2b3c6-a2df-48ce-a525-c93114908d6e",
   "metadata": {},
   "outputs": [],
   "source": [
    "GRID_SIZE = 6\n",
    "K = 8\n",
    "dataset_label = f\"data/grid6/model_training/dataset_{GRID_SIZE}_K8_best.pkl\"\n",
    "model_label = f\"models/wcd_nn_model_{GRID_SIZE}_K8_best.pt\" \n",
    "\n",
    "with open(dataset_label, \"rb\") as f:\n",
    "    loaded_dataset = pickle.load(f)"
   ]
  },
  {
   "cell_type": "code",
   "execution_count": null,
   "id": "828e93ec-7bb4-4312-8494-899d42a2e54e",
   "metadata": {},
   "outputs": [],
   "source": [
    "num_envs = len(loaded_dataset)\n",
    "init_true_wcd ={}\n",
    "for i in range(num_envs):\n",
    "    x, y = loaded_dataset[i]  # Get a specific data sample\n",
    "    init_true_wcd[i] = compute_true_wcd(x.cpu(),K=8)\n",
    "    if (i+1)%200==0:\n",
    "        print(i)\n",
    "        data_storage_path =f\"data/grid{GRID_SIZE}/K{K}/\"\n",
    "        with open(f\"{data_storage_path}initial_true_wcd_by_id.json\", \"w\") as json_file:\n",
    "            json.dump(init_true_wcd, json_file, indent=4)"
   ]
  },
  {
   "cell_type": "code",
   "execution_count": null,
   "id": "10a56b23-0830-4c4a-a5f9-f329352e4664",
   "metadata": {},
   "outputs": [],
   "source": [
    "# # print(env_dict)\n",
    "# data_storage_path =f\"data/grid{GRID_SIZE}/K{K}/\"\n",
    "# with open(f\"{data_storage_path}/individual_envs/initial_true_wcd_by_id.json\", \"w\") as json_file:\n",
    "#     json.dump(init_true_wcd, json_file, indent=4)"
   ]
  }
 ],
 "metadata": {
  "kernelspec": {
   "display_name": "Python 3 (ipykernel)",
   "language": "python",
   "name": "python3"
  },
  "language_info": {
   "codemirror_mode": {
    "name": "ipython",
    "version": 3
   },
   "file_extension": ".py",
   "mimetype": "text/x-python",
   "name": "python",
   "nbconvert_exporter": "python",
   "pygments_lexer": "ipython3",
   "version": "3.10.6"
  }
 },
 "nbformat": 4,
 "nbformat_minor": 5
}
