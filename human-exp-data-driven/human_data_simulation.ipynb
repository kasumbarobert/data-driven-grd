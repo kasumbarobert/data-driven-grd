{
 "cells": [
  {
   "cell_type": "markdown",
   "metadata": {},
   "source": [
    "## generate human path from human model"
   ]
  },
  {
   "cell_type": "code",
   "execution_count": 1,
   "metadata": {},
   "outputs": [],
   "source": [
    "import torch\n",
    "import numpy as np\n",
    "import matplotlib.pyplot as plt\n",
    "from matplotlib.colors import ListedColormap\n",
    "import random\n",
    "import pandas as pd\n",
    "import itertools\n",
    "import math\n",
    "# from mdp import GridworldMDP\n",
    "\n",
    "from collections import deque\n",
    "# from utils_suboptimal import *\n",
    "import random\n",
    "import argparse\n",
    "\n",
    "from utils_human_exp import *"
   ]
  },
  {
   "cell_type": "code",
   "execution_count": null,
   "metadata": {},
   "outputs": [],
   "source": []
  },
  {
   "cell_type": "code",
   "execution_count": null,
   "metadata": {},
   "outputs": [],
   "source": [
    "\n",
    "\n"
   ]
  },
  {
   "cell_type": "code",
   "execution_count": 2,
   "metadata": {},
   "outputs": [
    {
     "data": {
      "text/plain": [
       "HumanNN(\n",
       "  (fc1): Linear(in_features=400, out_features=1024, bias=True)\n",
       "  (fc2): Linear(in_features=1024, out_features=1024, bias=True)\n",
       "  (fc3): Linear(in_features=1024, out_features=1024, bias=True)\n",
       "  (fc4): Linear(in_features=1024, out_features=4, bias=True)\n",
       "  (sm): Softmax(dim=1)\n",
       ")"
      ]
     },
     "execution_count": 2,
     "metadata": {},
     "output_type": "execute_result"
    }
   ],
   "source": [
    "## load human model\n",
    "human_model = torch.load('models/human_model_grid10.pt', map_location=torch.device('cpu'))\n",
    "human_model.eval()"
   ]
  },
  {
   "cell_type": "code",
   "execution_count": 3,
   "metadata": {},
   "outputs": [],
   "source": [
    "random.seed(42)\n",
    "np.random.seed(42)\n",
    "torch.manual_seed(42)\n",
    "\n",
    "grid_size = 6\n",
    "num_goal_positions = 2\n",
    "max_envs = 10\n"
   ]
  },
  {
   "cell_type": "code",
   "execution_count": 4,
   "metadata": {},
   "outputs": [],
   "source": [
    "def continuous_design_wcd(grid_size, num_goal_positions, max_iterations=100):\n",
    "    \"\"\"\n",
    "    Continuously creates designs and computes WCD.\n",
    "    Ignores environments where the shortest path to any goal is -1.\n",
    "    \"\"\"\n",
    "\n",
    "    def is_valid_environment(paths):\n",
    "        \"\"\" Check if the environment is valid (no shortest path is -1) \"\"\"\n",
    "        return all(len(path) > 0 for path in paths)\n",
    "\n",
    "    wcd_results = []\n",
    "    designs = []\n",
    "    count = 0\n",
    "    valid_counts = 0\n",
    "    for _ in range(max_iterations):\n",
    "        num_blocked_positions = random.choice(range(grid_size*2))\n",
    "        new_goal_positions, new_special_reward_positions, new_blocked_positions, start_pos = randomize_pos(grid_size, \n",
    "                                                                                                           num_goal_positions, 0, num_blocked_positions)\n",
    "        is_valid = is_design_valid(grid_size, new_goal_positions, new_blocked_positions, start_pos)\n",
    "        if not is_valid:\n",
    "            continue\n",
    "        valid_counts+=1\n",
    "        wcd = compute_human_wcd(model = human_model, grid_size=grid_size, goal_positions = new_goal_positions, \n",
    "                                blocked_positions = new_blocked_positions, start_pos = start_pos,search_depth = 19)\n",
    "        \n",
    "        #compute_human_wcd(model, grid_size, goal_positions, blocked_positions, start_pos, search_depth =19)\n",
    "        x= encode_grid_design(grid_size, new_goal_positions, new_blocked_positions, start_pos).squeeze()\n",
    "        \n",
    "        grid = decode_grid_design(x,return_map = True)\n",
    "        \n",
    "        print(wcd)\n",
    "        # plot_grid(grid)\n",
    "        if wcd is None:\n",
    "            count+=1\n",
    "            wcd_results.append(wcd)\n",
    "            designs.append(encode_grid_design(grid_size, new_goal_positions, new_blocked_positions, start_pos))\n",
    "    print(\"Percent failed\",count/valid_counts)\n",
    "    return designs,wcd_results\n",
    "\n"
   ]
  },
  {
   "cell_type": "code",
   "execution_count": 5,
   "metadata": {},
   "outputs": [
    {
     "name": "stdout",
     "output_type": "stream",
     "text": [
      "14\n",
      "4\n",
      "16\n",
      "10\n",
      "16\n",
      "15\n",
      "0\n",
      "8\n",
      "0\n",
      "5\n",
      "6\n",
      "11\n",
      "6\n",
      "4\n",
      "0\n",
      "12\n",
      "7\n",
      "0\n",
      "6\n",
      "10\n",
      "Percent failed 0.0\n",
      "[]\n",
      "0\n",
      "5\n",
      "5\n",
      "8\n",
      "0\n",
      "12\n",
      "0\n",
      "0\n",
      "4\n",
      "7\n",
      "10\n",
      "14\n",
      "0\n",
      "12\n",
      "3\n",
      "13\n",
      "0\n",
      "10\n",
      "11\n",
      "6\n",
      "Percent failed 0.0\n",
      "[]\n",
      "0\n",
      "0\n",
      "0\n",
      "0\n",
      "9\n",
      "0\n",
      "7\n",
      "16\n",
      "0\n",
      "0\n",
      "14\n",
      "4\n",
      "0\n",
      "8\n",
      "0\n",
      "12\n",
      "3\n",
      "0\n",
      "3\n",
      "8\n",
      "Percent failed 0.0\n",
      "[]\n",
      "10\n",
      "10\n",
      "5\n",
      "0\n",
      "6\n",
      "9\n",
      "14\n",
      "5\n",
      "0\n",
      "0\n",
      "2\n",
      "16\n",
      "0\n",
      "17\n",
      "5\n",
      "4\n",
      "0\n",
      "11\n",
      "0\n",
      "0\n",
      "Percent failed 0.0\n",
      "[]\n",
      "0\n",
      "0\n",
      "0\n",
      "0\n",
      "8\n",
      "6\n",
      "0\n",
      "8\n",
      "6\n",
      "0\n",
      "12\n",
      "10\n",
      "0\n",
      "16\n",
      "8\n",
      "7\n",
      "0\n",
      "7\n",
      "12\n",
      "10\n",
      "Percent failed 0.0\n",
      "[]\n"
     ]
    }
   ],
   "source": [
    "for i in range(0, 5):\n",
    "    grid_size = 10\n",
    "    num_goal_positions = 2\n",
    "    max_iterations = 20  # Set the number of iterations\n",
    "    x,y = continuous_design_wcd(grid_size, num_goal_positions, max_iterations)\n",
    "    print(y)\n",
    "    file_name = f\"data/grid{grid_size}/model_training/tmp_human_path.pt\"\n",
    "    # update_or_create_dataset(file_name, x, y)\n",
    "    # except:\n",
    "    #     pass"
   ]
  },
  {
   "cell_type": "code",
   "execution_count": null,
   "metadata": {},
   "outputs": [],
   "source": []
  },
  {
   "cell_type": "code",
   "execution_count": null,
   "metadata": {},
   "outputs": [],
   "source": []
  },
  {
   "cell_type": "code",
   "execution_count": null,
   "metadata": {},
   "outputs": [],
   "source": []
  }
 ],
 "metadata": {
  "kernelspec": {
   "display_name": "Python 3 (ipykernel)",
   "language": "python",
   "name": "python3"
  },
  "language_info": {
   "codemirror_mode": {
    "name": "ipython",
    "version": 3
   },
   "file_extension": ".py",
   "mimetype": "text/x-python",
   "name": "python",
   "nbconvert_exporter": "python",
   "pygments_lexer": "ipython3",
   "version": "3.10.6"
  }
 },
 "nbformat": 4,
 "nbformat_minor": 4
}
